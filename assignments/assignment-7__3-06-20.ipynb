{
 "cells": [
  {
   "cell_type": "markdown",
   "metadata": {},
   "source": [
    "# Question 1\n",
    "[Reverse] Copy the contents of a text file into another, printing the reversed version of each input line"
   ]
  },
  {
   "cell_type": "code",
   "execution_count": 13,
   "metadata": {},
   "outputs": [],
   "source": [
    "fin=open('myTextFiles\\\\test0.txt','r')\n",
    "fout=open('myTextFiles\\\\test1.txt','w')\n",
    "for line in fin:\n",
    "\n",
    "        line=line.strip('\\n')\n",
    "        line=line[::-1]\n",
    "        fout.write(line+'\\n')\n",
    "fin.close()\n",
    "fout.close()"
   ]
  },
  {
   "cell_type": "markdown",
   "metadata": {},
   "source": [
    "# Question 2:\n",
    "[Number Lines] Print the contents of a file line by line putting a line number for each line."
   ]
  },
  {
   "cell_type": "code",
   "execution_count": 15,
   "metadata": {},
   "outputs": [
    {
     "name": "stdout",
     "output_type": "stream",
     "text": [
      "1. What is Lorem Ipsum?\n",
      "2. Lorem Ipsum is simply dummy text of the printing and typesetting industry. \n",
      "3. Lorem Ipsum has been the industrys standard dummy text ever since the 1500s, \n"
     ]
    }
   ],
   "source": [
    "fin=open('myTextFiles\\\\test0.txt','r')\n",
    "no=1\n",
    "for line in fin:\n",
    "        line=line.strip('\\n')\n",
    "        print(str(no)+\". \"+line)\n",
    "        no+=1\n",
    "fin.close()"
   ]
  },
  {
   "cell_type": "markdown",
   "metadata": {},
   "source": [
    "# Question 3:\n",
    "    [deDuplicate] Avoiding Duplicates\n",
    "        In many situations, lists should not contain duplicate elements. For example, a pack of cards should not contain the same card twice. Define a function\n",
    "    duplicates (list): bool\n",
    "    which returns True if its argument contains duplicate elements.\n",
    "            duplicates [1,2,3,4,5]\n",
    "                False\n",
    "            duplicates [1,2,3,2]\n",
    "                True\n",
    "   One way to ensure a list contains no duplicates is to start with a list that might contain duplicate elements, and remove them. Define a function\n",
    "    removeDuplicates (list): list\n",
    "which returns a list containing the same elements as its argument, but without duplicates.\n"
   ]
  },
  {
   "cell_type": "code",
   "execution_count": 18,
   "metadata": {},
   "outputs": [
    {
     "name": "stdout",
     "output_type": "stream",
     "text": [
      "False\n"
     ]
    },
    {
     "data": {
      "text/plain": [
       "True"
      ]
     },
     "execution_count": 18,
     "metadata": {},
     "output_type": "execute_result"
    }
   ],
   "source": [
    "def duplicates(l):\n",
    "    chart=list(set(l))\n",
    "    \n",
    "    for i in chart:\n",
    "        if l.count(i)>1:\n",
    "            return True\n",
    "    return False\n",
    "\n",
    "print(duplicates([1,2,3,4,5]))\n",
    "duplicates([1,2,3,2])\n"
   ]
  },
  {
   "cell_type": "code",
   "execution_count": 1,
   "metadata": {},
   "outputs": [
    {
     "name": "stdout",
     "output_type": "stream",
     "text": [
      "9/8\n",
      "1/24\n",
      "30/96\n",
      "13/14\n",
      "1/20\n"
     ]
    }
   ],
   "source": [
    "import fractions as f\n",
    "\n",
    "a=f.frctn(13,24)\n",
    "b=f.frctn(7,12)\n",
    "c=f.frctn(45,900)\n",
    "print(f.add(a,b))\n",
    "print(f.sub(b,a))\n",
    "print(f.mul(a,b))\n",
    "print(f.div(a,b))\n",
    "print(f.simplify(c))"
   ]
  },
  {
   "cell_type": "markdown",
   "metadata": {},
   "source": [
    "# Question 5:\n",
    "    [Permutations] \n",
    "    A permutation of a list is another list with the same elements, but in a possibly different order. For example, [1,2,1] is a permutation of [2,1,1], but not of [1,2,2]. Write a function\n",
    "                isPermutation (list1, list2): bool\n",
    "    that returns True if its arguments are permutations of each other.\n"
   ]
  },
  {
   "cell_type": "code",
   "execution_count": 7,
   "metadata": {},
   "outputs": [
    {
     "name": "stdout",
     "output_type": "stream",
     "text": [
      "True\n",
      "False\n"
     ]
    }
   ],
   "source": [
    "def isPermutation(l1,l2):\n",
    "    l1.sort()\n",
    "    l2.sort()\n",
    "    if l1==l2:\n",
    "        return True\n",
    "    return False\n",
    "\n",
    "l1=[1,2,1]\n",
    "l2=[1,1,2]\n",
    "l3=[2,2,1]\n",
    "print(isPermutation(l1,l2))\n",
    "print(isPermutation(l1,l3))"
   ]
  }
 ],
 "metadata": {
  "kernelspec": {
   "display_name": "Python 3",
   "language": "python",
   "name": "python3"
  },
  "language_info": {
   "codemirror_mode": {
    "name": "ipython",
    "version": 3
   },
   "file_extension": ".py",
   "mimetype": "text/x-python",
   "name": "python",
   "nbconvert_exporter": "python",
   "pygments_lexer": "ipython3",
   "version": "3.7.4"
  }
 },
 "nbformat": 4,
 "nbformat_minor": 2
}
