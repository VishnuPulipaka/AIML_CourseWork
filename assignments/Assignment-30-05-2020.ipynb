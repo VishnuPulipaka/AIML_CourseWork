{
 "cells": [
  {
   "cell_type": "markdown",
   "metadata": {},
   "source": [
    "# Question 1:\n",
    "Count the no.of words,no.of letters,no.of lines available in your file"
   ]
  },
  {
   "cell_type": "code",
   "execution_count": 7,
   "metadata": {},
   "outputs": [],
   "source": [
    "f=open(\"new.txt\",'w')\n",
    "s='''Call open(file, mode) with the pathname of a file as file and \n",
    "mode as \"r\" to open the file for reading. Use a for-loop to iterate \n",
    "through the file. At each iteration, use str.strip(characters) with \n",
    "\"\\n\" as characters to strip it from each line str, and use str.split()\n",
    "to create a list containing all the words from the line str.\n",
    "Also, in each iteration, add 1 to the number of lines, \n",
    "use len(object) with the list containing\n",
    "the word from the line as object to add it to the\n",
    "number of words, and use len(object) with the stripped line as object to add it to the number of characters.'''\n",
    "f.write(s)\n",
    "f.close()"
   ]
  },
  {
   "cell_type": "code",
   "execution_count": 8,
   "metadata": {},
   "outputs": [
    {
     "name": "stdout",
     "output_type": "stream",
     "text": [
      "words:110 lines:0 characters:578\n"
     ]
    }
   ],
   "source": [
    "f=open('new.txt','r')\n",
    "ws=0\n",
    "ls=0\n",
    "ch=0\n",
    "for line in f:\n",
    "    line=line.strip('\\n')\n",
    "    \n",
    "    words=line.split()\n",
    "    ws+=len(words)\n",
    "    ch+=len(line)\n",
    "f.close()\n",
    "print(\"words:{} lines:{} characters:{}\".format(ws,ls,ch))\n",
    "    "
   ]
  },
  {
   "cell_type": "markdown",
   "metadata": {},
   "source": [
    "# Question 2:\n",
    "Copy the content of one file to another\n",
    "\n"
   ]
  },
  {
   "cell_type": "code",
   "execution_count": 9,
   "metadata": {},
   "outputs": [],
   "source": [
    "with open('new.txt','r') as R:\n",
    "    with open('out.txt','w') as W:\n",
    "        for line in R:\n",
    "            W.write(line)"
   ]
  },
  {
   "cell_type": "markdown",
   "metadata": {},
   "source": [
    "# Question 3:\n",
    "Display the words starting with letter 'p'\n"
   ]
  },
  {
   "cell_type": "code",
   "execution_count": 11,
   "metadata": {},
   "outputs": [
    {
     "name": "stdout",
     "output_type": "stream",
     "text": [
      "pathname "
     ]
    }
   ],
   "source": [
    "with open('new.txt','r') as R:\n",
    "    for line in R:\n",
    "        line=line.strip(\"\\n\")\n",
    "        word=line.split()\n",
    "        for w in word:\n",
    "            if w.startswith('p'):\n",
    "                print(w,end=' ')"
   ]
  },
  {
   "cell_type": "markdown",
   "metadata": {},
   "source": [
    "# Question 4:\n",
    "Rename and remove files\n"
   ]
  },
  {
   "cell_type": "code",
   "execution_count": 1,
   "metadata": {},
   "outputs": [
    {
     "name": "stdout",
     "output_type": "stream",
     "text": [
      "File Removed!\n"
     ]
    }
   ],
   "source": [
    "import os\n",
    "os.remove(\"out.txt\")\n",
    "print(\"File Removed!\")"
   ]
  },
  {
   "cell_type": "markdown",
   "metadata": {},
   "source": [
    "## Question 5:\n",
    "    Create a folder \n",
    "    Goto that folder and create 5 no.of files\n",
    "    All the file names should be unique\n",
    "    Add some content into the file and the content in all the files should be unique\n",
    "    File size should be 512bits\n",
    "\n"
   ]
  },
  {
   "cell_type": "code",
   "execution_count": null,
   "metadata": {},
   "outputs": [],
   "source": [
    "import os #making directory\n",
    "base_dir='C:\\\\Users\\\\vishn\\\\Desktop\\\\AIML_CourseWork\\\\assignments'\n",
    "di=\"myTextFiles\"\n",
    "path=os.path.join(base_dir,di)\n",
    "os.mkdir(path)\n"
   ]
  },
  {
   "cell_type": "code",
   "execution_count": 11,
   "metadata": {},
   "outputs": [],
   "source": [
    "import os  #making 5 files \n",
    "os.chdir('C:\\\\Users\\\\vishn\\\\Desktop\\\\AIML_CourseWork\\\\assignments\\\\myTextFiles')\n",
    "for i in range(5):\n",
    "    f=open('test'+str(i)+'.txt','w')\n",
    "    f.close()"
   ]
  },
  {
   "cell_type": "code",
   "execution_count": null,
   "metadata": {},
   "outputs": [],
   "source": [
    "for i in range(5):  #setting file size with unique text\n",
    "    with open(\"test{}.txt\".format(i),'wb') as f:\n",
    "        \n",
    "        f.write(\"this is file{}\".format(i))\n",
    "        f.close()"
   ]
  },
  {
   "cell_type": "code",
   "execution_count": 19,
   "metadata": {},
   "outputs": [],
   "source": [
    "for i in range(5): #setting file size\n",
    "    with open(\"test{}.txt\".format(i),'wb') as f:\n",
    "        f.seek(512-1)\n",
    "        f.write(b\"\\0\")"
   ]
  },
  {
   "cell_type": "code",
   "execution_count": 24,
   "metadata": {},
   "outputs": [
    {
     "name": "stdout",
     "output_type": "stream",
     "text": [
      "test0.txt 512\n",
      "test1.txt 512\n",
      "test2.txt 512\n",
      "test3.txt 512\n",
      "test4.txt 512\n"
     ]
    }
   ],
   "source": [
    "for i in range(5):  #checking file size\n",
    "    print(\"test\"+str(i)+'.txt',os.stat(\"test{}.txt\".format(i)).st_size)"
   ]
  }
 ],
 "metadata": {
  "kernelspec": {
   "display_name": "Python 3",
   "language": "python",
   "name": "python3"
  },
  "language_info": {
   "codemirror_mode": {
    "name": "ipython",
    "version": 3
   },
   "file_extension": ".py",
   "mimetype": "text/x-python",
   "name": "python",
   "nbconvert_exporter": "python",
   "pygments_lexer": "ipython3",
   "version": "3.7.4"
  }
 },
 "nbformat": 4,
 "nbformat_minor": 2
}
