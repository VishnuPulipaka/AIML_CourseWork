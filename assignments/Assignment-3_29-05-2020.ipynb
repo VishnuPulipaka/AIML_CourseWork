{
 "cells": [
  {
   "cell_type": "markdown",
   "metadata": {},
   "source": [
    "# CSE-221710302064-Vishnu Pulipaka"
   ]
  },
  {
   "cell_type": "markdown",
   "metadata": {},
   "source": [
    "# Question 1:\n",
    "Create a function to find Factorial of a number using Recursion\n"
   ]
  },
  {
   "cell_type": "code",
   "execution_count": 4,
   "metadata": {},
   "outputs": [
    {
     "name": "stdout",
     "output_type": "stream",
     "text": [
      "5\n",
      "5!=120\n"
     ]
    }
   ],
   "source": [
    "num=int(input())\n",
    "def fact(n):\n",
    "    if n==1:\n",
    "        return 1\n",
    "    else:\n",
    "        return n*fact(n-1)\n",
    "print(\"{}!={}\".format(num,fact(num)))"
   ]
  },
  {
   "cell_type": "markdown",
   "metadata": {},
   "source": [
    "# Question 2:\n",
    "Create a function and display ‘n’ Fibonacci numbers using Recursion\n"
   ]
  },
  {
   "cell_type": "code",
   "execution_count": 11,
   "metadata": {},
   "outputs": [
    {
     "name": "stdout",
     "output_type": "stream",
     "text": [
      "6\n",
      "Fibonacci series:\n",
      "0\n",
      "1\n",
      "1\n",
      "2\n",
      "3\n",
      "5\n",
      "8\n"
     ]
    }
   ],
   "source": [
    "n=int(input())\n",
    "def fibo(n):\n",
    "    if n<=1:\n",
    "        return n\n",
    "    else:\n",
    "        return fibo(n-1)+fibo(n-2)\n",
    "print(\"Fibonacci series:\")\n",
    "for i in range(n+1):\n",
    "    print(fibo(i))"
   ]
  },
  {
   "cell_type": "markdown",
   "metadata": {},
   "source": [
    "# Question 3:\n",
    "Print sum of list of elements without using sum() function\n"
   ]
  },
  {
   "cell_type": "code",
   "execution_count": 15,
   "metadata": {},
   "outputs": [
    {
     "name": "stdout",
     "output_type": "stream",
     "text": [
      "23 5  76 3 6 8\n",
      "sum: 121\n"
     ]
    }
   ],
   "source": [
    "ls=[int(i) for i in input().split()]\n",
    "sum=0\n",
    "for i in ls:\n",
    "    sum+=i\n",
    "print(\"sum:\",sum)"
   ]
  },
  {
   "cell_type": "markdown",
   "metadata": {},
   "source": [
    "# Question 4:\n",
    "print only even numbers from the list\n"
   ]
  },
  {
   "cell_type": "code",
   "execution_count": 17,
   "metadata": {},
   "outputs": [
    {
     "name": "stdout",
     "output_type": "stream",
     "text": [
      "2 4 5 2 56 78\n",
      "2 4 2 56 78 "
     ]
    }
   ],
   "source": [
    "ls=[int(i) for i in input().split()]\n",
    "\n",
    "for i in ls:\n",
    "    if i%2==0:\n",
    "        print(i,end=' ')\n"
   ]
  },
  {
   "cell_type": "markdown",
   "metadata": {},
   "source": [
    "# Question 5:\n",
    "Write a Python program to get the smallest number from a list and display index of smallest element of the list\n"
   ]
  },
  {
   "cell_type": "code",
   "execution_count": 18,
   "metadata": {},
   "outputs": [
    {
     "name": "stdout",
     "output_type": "stream",
     "text": [
      "23 45 67 7 4 345\n",
      "min:4 at index:4\n"
     ]
    }
   ],
   "source": [
    "ls=[int(i) for i in input().split()]\n",
    "print(\"min:{} at index:{}\".format(min(ls),ls.index(min(ls))))"
   ]
  },
  {
   "cell_type": "markdown",
   "metadata": {},
   "source": [
    "# Question 6:\n",
    "Write a Python function that checks whether a passed string is palindrome or not.\n"
   ]
  },
  {
   "cell_type": "code",
   "execution_count": 35,
   "metadata": {},
   "outputs": [
    {
     "name": "stdout",
     "output_type": "stream",
     "text": [
      "mueseum\n",
      "palindrome\n"
     ]
    }
   ],
   "source": [
    "st=input()\n",
    "def ispal(st):\n",
    "    if st==st[::-1]:\n",
    "        print(\"palindrome\")\n",
    "    else:\n",
    "        print(\"NO\")\n",
    "        \n",
    "ispal(st)"
   ]
  },
  {
   "cell_type": "markdown",
   "metadata": {},
   "source": [
    "# Question 7:\n",
    "    Write a Python program to count the number of even and odd numbers from a series of numbers. \n",
    "    sample numbers : numbers = [1, 2, 3, 4, 5, 6, 7, 8, 9]\n",
    "    Expected Output :\n",
    "    Number of even numbers : 5\n",
    "    Number of odd numbers : 4\n"
   ]
  },
  {
   "cell_type": "code",
   "execution_count": 24,
   "metadata": {},
   "outputs": [
    {
     "name": "stdout",
     "output_type": "stream",
     "text": [
      "1 2 3 4 5 6 7 8 9\n",
      "even:4 odd:5\n"
     ]
    }
   ],
   "source": [
    "ls=[int(i) for i in input().split()]\n",
    "e=0\n",
    "o=0\n",
    "for i in ls:\n",
    "    if i%2==0:\n",
    "        e+=1\n",
    "    else:\n",
    "        o+=1\n",
    "print(\"even:{} odd:{}\".format(e,o))"
   ]
  },
  {
   "cell_type": "markdown",
   "metadata": {},
   "source": [
    "# Question 8:\n",
    "Write a Python program that prints all the numbers from 0 to 6 except 3 and 6.\n",
    "Note : Use 'continue' statement.\n",
    "Expected Output : 0 1 2 4 5\n"
   ]
  },
  {
   "cell_type": "code",
   "execution_count": 28,
   "metadata": {},
   "outputs": [
    {
     "name": "stdout",
     "output_type": "stream",
     "text": [
      "0 1 2 4 5 "
     ]
    }
   ],
   "source": [
    "for i in range(7):\n",
    "    if i==3 or i==6:\n",
    "        continue\n",
    "    print(i,end=\" \")"
   ]
  },
  {
   "cell_type": "markdown",
   "metadata": {},
   "source": [
    "# Question 9:\n",
    "Write a python function to check whether the given number is prime or not\n"
   ]
  },
  {
   "cell_type": "code",
   "execution_count": 33,
   "metadata": {},
   "outputs": [
    {
     "name": "stdout",
     "output_type": "stream",
     "text": [
      "8\n",
      "False\n"
     ]
    }
   ],
   "source": [
    "n=int(input())\n",
    "\n",
    "def isPrime(n):\n",
    "    f=2\n",
    "    for i in range(2,n//2+1):\n",
    "        if  n%i==0:\n",
    "            f+=1\n",
    "    if f==2:\n",
    "        return True\n",
    "    return False\n",
    "print(isPrime(n))"
   ]
  },
  {
   "cell_type": "markdown",
   "metadata": {},
   "source": [
    "# Question 10:\n",
    "    Write a python function to check whether the given number is Adam number or not\n",
    "    Example: \n",
    "    Input : 12\n",
    "    Output : Adam Number\n",
    "\n",
    "    Explanation: 12*12 = 144\n",
    "    Reverse of 12 is 21 → 21*21 =441\n",
    "    Reverse of 144 == 441\n"
   ]
  },
  {
   "cell_type": "code",
   "execution_count": 5,
   "metadata": {},
   "outputs": [
    {
     "name": "stdout",
     "output_type": "stream",
     "text": [
      "101\n",
      "True\n"
     ]
    }
   ],
   "source": [
    "n=int(input())\n",
    "\n",
    "def square(n):\n",
    "    return n**2\n",
    "def reverse(n):\n",
    "    st=str(n)[::-1]\n",
    "    return int(st)\n",
    "\n",
    "def Adam(n):\n",
    "    if reverse(square(n))==square(reverse(n)):\n",
    "        return True\n",
    "\n",
    "print(Adam(n))"
   ]
  }
 ],
 "metadata": {
  "kernelspec": {
   "display_name": "Python 3",
   "language": "python",
   "name": "python3"
  },
  "language_info": {
   "codemirror_mode": {
    "name": "ipython",
    "version": 3
   },
   "file_extension": ".py",
   "mimetype": "text/x-python",
   "name": "python",
   "nbconvert_exporter": "python",
   "pygments_lexer": "ipython3",
   "version": "3.7.4"
  }
 },
 "nbformat": 4,
 "nbformat_minor": 2
}
