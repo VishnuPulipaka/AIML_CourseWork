{
 "cells": [
  {
   "cell_type": "markdown",
   "metadata": {},
   "source": [
    "\n",
    "# CSE - 221710302064- Vishnu Pulipaka"
   ]
  },
  {
   "cell_type": "markdown",
   "metadata": {},
   "source": [
    "## Question 1:\n",
    "Accept a string from the user and count no.of vowels,consonants and special characters"
   ]
  },
  {
   "cell_type": "code",
   "execution_count": 13,
   "metadata": {},
   "outputs": [
    {
     "name": "stdout",
     "output_type": "stream",
     "text": [
      "zbcaieo%^&\n",
      "vowels: 4 ,consonants :3,special characters:3 \n"
     ]
    }
   ],
   "source": [
    "s=input()\n",
    "\n",
    "def isvowel(let):\n",
    "    vowels=['a','e','i','o','u']\n",
    "    if let in vowels:\n",
    "        return True\n",
    "    else:\n",
    "        return False\n",
    "\n",
    "def check(s):\n",
    "    v=0\n",
    "    c=0\n",
    "    sp=0\n",
    "    for i in s:\n",
    "        if isvowel(i):\n",
    "                v+=1\n",
    "        elif i.isalpha() and not isvowel(i):\n",
    "                c+=1\n",
    "        elif not i.isdigit() and not i.isspace() and not i.isalpha():\n",
    "                sp+=1\n",
    "    print(\"vowels: {} ,consonants :{},special characters:{} \".format(v,c,sp))       \n",
    "\n",
    "check(s)"
   ]
  },
  {
   "cell_type": "markdown",
   "metadata": {},
   "source": [
    "## Question 2:\n",
    "count the no.of pairs of a in the given string(Infosys InfyTQ)\n",
    "    string →  \"abbaaccbbaaa\"\n",
    "    output →  2\n"
   ]
  },
  {
   "cell_type": "code",
   "execution_count": 17,
   "metadata": {},
   "outputs": [
    {
     "name": "stdout",
     "output_type": "stream",
     "text": [
      "abbaaccbbaaa\n",
      "pairs of a: 2\n"
     ]
    }
   ],
   "source": [
    "st=input()\n",
    "cnt=0\n",
    "stack=[]\n",
    "\n",
    "for i in st:\n",
    "    if len(stack)==0:\n",
    "        stack.append(i)\n",
    "    else:\n",
    "        if stack[-1]=='a' and i=='a':\n",
    "            cnt+=1\n",
    "            stack.pop()\n",
    "        else:\n",
    "            stack.append(i)\n",
    "print(\"pairs of a: {}\".format(cnt))"
   ]
  },
  {
   "cell_type": "markdown",
   "metadata": {},
   "source": [
    "## Question 3:\n",
    "    Test case1:\n",
    "        string →  \"((((()()()))))()\"\n",
    "        output →  8\n",
    "    Test case2:\n",
    "        string →  \"((()))()\"\n",
    "        Output →  4\n"
   ]
  },
  {
   "cell_type": "code",
   "execution_count": 19,
   "metadata": {},
   "outputs": [
    {
     "name": "stdout",
     "output_type": "stream",
     "text": [
      "((()))()\n",
      "complete set: 4\n"
     ]
    }
   ],
   "source": [
    "inp=input()\n",
    "cnt=0\n",
    "stack=[]\n",
    "for i in inp:\n",
    "    if len(stack)==0:\n",
    "        stack.append(i)\n",
    "    else:\n",
    "        if stack[-1]=='(' and i==')':\n",
    "            stack.pop()\n",
    "            cnt+=1\n",
    "        else:\n",
    "            stack.append(i)\n",
    "print(\"complete set: {}\".format(cnt))"
   ]
  },
  {
   "cell_type": "markdown",
   "metadata": {},
   "source": [
    "## Question 4:\n",
    "Read the input as two limits and Print the output as Palindrome count between the two limits\n",
    "- Example #1; Input : 1 10 Output : 9\n",
    "- Example #2: Input : 1 100 Output : 18\n"
   ]
  },
  {
   "cell_type": "code",
   "execution_count": 21,
   "metadata": {},
   "outputs": [
    {
     "name": "stdout",
     "output_type": "stream",
     "text": [
      "1 100\n",
      "palindromes in range(1,100) : 18\n"
     ]
    }
   ],
   "source": [
    "lim=[int(i) for i in input().split()]\n",
    "\n",
    "def pal(num):\n",
    "    if str(num)==str(num)[::-1]:\n",
    "        return True\n",
    "    else:\n",
    "        return False\n",
    "cnt=0 \n",
    "for k in range(lim[0],lim[1]+1):\n",
    "    if pal(k):\n",
    "        cnt+=1\n",
    "\n",
    "print(\"palindromes in range({},{}) : {}\".format(lim[0],lim[1],cnt))"
   ]
  },
  {
   "cell_type": "markdown",
   "metadata": {},
   "source": [
    "## Question 5:\n",
    "\n",
    "- Accept a number as an input and check whether the given number is palindrome or not\n",
    "- if it is a palindrome number print the number on the screen\n",
    "- if it is not a palindrome number reverse that number and add it to previous number repeat this until will get a palindrome - - number and print that palindrome number on the screen\n",
    "input: 127\n",
    "output: 848\n"
   ]
  },
  {
   "cell_type": "code",
   "execution_count": 25,
   "metadata": {},
   "outputs": [
    {
     "name": "stdout",
     "output_type": "stream",
     "text": [
      "127\n",
      "848\n"
     ]
    }
   ],
   "source": [
    "# the pal() method is from above \n",
    "n=int(input())\n",
    "if not pal(n):\n",
    "    while(not pal(n)):\n",
    "        n=n+int(str(n)[::-1])\n",
    "    print(n)\n",
    "else:\n",
    "    print(n)"
   ]
  },
  {
   "cell_type": "markdown",
   "metadata": {},
   "source": [
    "# Question 6:\n",
    "input:orange  →   output : puboif\n"
   ]
  },
  {
   "cell_type": "code",
   "execution_count": 2,
   "metadata": {},
   "outputs": [
    {
     "name": "stdout",
     "output_type": "stream",
     "text": [
      "ibiza\n",
      "jejab\n"
     ]
    }
   ],
   "source": [
    "# reusing isvowel() method from question 1\n",
    "def isvowel(let):\n",
    "    vowels=['a','e','i','o','u']\n",
    "    if let in vowels:\n",
    "        return True\n",
    "    else:\n",
    "        return False\n",
    "    \n",
    "y=input()\n",
    "ycode=''\n",
    "for i in y:\n",
    "    if isvowel(i):\n",
    "        while isvowel(i):\n",
    "            i=chr(ord(i)+1)\n",
    "            if ord(i)>ord('z'):\n",
    "                i='a'\n",
    "        ycode=ycode+i\n",
    "    \n",
    "    else:\n",
    "        while not isvowel(i):\n",
    "            i=chr(ord(i)+1)\n",
    "            if ord(i)>ord('z'):\n",
    "                i='a'\n",
    "        ycode=ycode+i\n",
    "        \n",
    "print(ycode)"
   ]
  },
  {
   "cell_type": "markdown",
   "metadata": {},
   "source": [
    "# Question 7:\n",
    "- Accept input as a string and display sum of digits as the output \n",
    "- input:Appli123cation456 \n",
    "- Output: 21\n"
   ]
  },
  {
   "cell_type": "code",
   "execution_count": 1,
   "metadata": {},
   "outputs": [
    {
     "name": "stdout",
     "output_type": "stream",
     "text": [
      "Appli123cation456\n",
      "21\n"
     ]
    }
   ],
   "source": [
    "ans=input()\n",
    "sum=0\n",
    "for i in ans:\n",
    "    if i.isdigit():\n",
    "            sum=sum+int(i)\n",
    "print(sum)"
   ]
  },
  {
   "cell_type": "markdown",
   "metadata": {},
   "source": [
    "## Question 8:\n",
    "- Write a program to prompt for a score between 0.0 and 1.0. If the score is out of range, print an error. If the score is -  between 0.0 and 1.0, print a grade using the following table:\n",
    "- Score Grade\n",
    "- >= 0.9 A\n",
    "- >= 0.8 B\n",
    "- >= 0.7 C\n",
    "- >= 0.6 D\n",
    "- < 0.6 F\n",
    "- If the user enters a value out of range, print a suitable error message and exit. For the test, enter a score of 0.85\n"
   ]
  },
  {
   "cell_type": "code",
   "execution_count": 9,
   "metadata": {},
   "outputs": [
    {
     "name": "stdout",
     "output_type": "stream",
     "text": [
      "0.85\n",
      "B\n"
     ]
    }
   ],
   "source": [
    "mar=float(input())\n",
    "if mar>=0 and mar<=1:\n",
    "    if mar>=0.9 and mar<=1:\n",
    "        print(\"A\")\n",
    "    elif mar>=0.8 and mar<0.9:\n",
    "        print(\"B\")\n",
    "    elif mar>=0.7 and mar<0.8:\n",
    "        print(\"C\")\n",
    "    elif mar>=0.6:\n",
    "        print(\"D\")\n",
    "    else:\n",
    "        print(\"F\")\n"
   ]
  },
  {
   "cell_type": "code",
   "execution_count": 11,
   "metadata": {},
   "outputs": [
    {
     "name": "stdout",
     "output_type": "stream",
     "text": [
      "fizzbuzz\n",
      "1\n",
      "2\n",
      "fizz\n",
      "4\n",
      "buzz\n",
      "fizz\n",
      "7\n",
      "8\n",
      "fizz\n",
      "buzz\n",
      "11\n",
      "fizz\n",
      "13\n",
      "14\n",
      "fizzbuzz\n",
      "16\n",
      "17\n",
      "fizz\n",
      "19\n",
      "buzz\n",
      "fizz\n",
      "22\n",
      "23\n",
      "fizz\n",
      "buzz\n",
      "26\n",
      "fizz\n",
      "28\n",
      "29\n",
      "fizzbuzz\n",
      "31\n",
      "32\n",
      "fizz\n",
      "34\n",
      "buzz\n",
      "fizz\n",
      "37\n",
      "38\n",
      "fizz\n",
      "buzz\n",
      "41\n",
      "fizz\n",
      "43\n",
      "44\n",
      "fizzbuzz\n",
      "46\n",
      "47\n",
      "fizz\n",
      "49\n",
      "buzz\n"
     ]
    }
   ],
   "source": [
    "for i in range(51):\n",
    "    if i%3==0  and i%5==0:\n",
    "        print(\"fizzbuzz\")\n",
    "    elif i%3==0:\n",
    "        print(\"fizz\")\n",
    "    elif i%5==0:\n",
    "        print(\"buzz\")\n",
    "    else:\n",
    "        print(i)"
   ]
  },
  {
   "cell_type": "markdown",
   "metadata": {},
   "source": [
    "# Question 10:\n",
    "- Write a Python program to find the median of three values.\n",
    "- Expected Output:\n",
    "- Input first number: 26                                            \n",
    "- Input second number: 15                                                \n",
    "- Input third number: 29                                                  \n",
    "- The median is 26\n"
   ]
  },
  {
   "cell_type": "code",
   "execution_count": 12,
   "metadata": {},
   "outputs": [
    {
     "name": "stdout",
     "output_type": "stream",
     "text": [
      "enter a:26\n",
      "enter b:15\n",
      "enter c:29\n",
      "26\n"
     ]
    }
   ],
   "source": [
    "lst=[]\n",
    "a=input(\"enter a:\")\n",
    "b=input(\"enter b:\")\n",
    "c=input(\"enter c:\")\n",
    "lst.append(a)\n",
    "lst.append(b)\n",
    "lst.append(c)\n",
    "\n",
    "lst.sort()\n",
    "print(lst[len(lst)//2])"
   ]
  }
 ],
 "metadata": {
  "kernelspec": {
   "display_name": "Python 3",
   "language": "python",
   "name": "python3"
  },
  "language_info": {
   "codemirror_mode": {
    "name": "ipython",
    "version": 3
   },
   "file_extension": ".py",
   "mimetype": "text/x-python",
   "name": "python",
   "nbconvert_exporter": "python",
   "pygments_lexer": "ipython3",
   "version": "3.7.4"
  }
 },
 "nbformat": 4,
 "nbformat_minor": 2
}
