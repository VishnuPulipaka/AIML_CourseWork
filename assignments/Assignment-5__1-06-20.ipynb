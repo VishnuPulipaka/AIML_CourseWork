{
 "cells": [
  {
   "cell_type": "markdown",
   "metadata": {},
   "source": [
    "# CSE -221710302064-Vishnu Pulipaka"
   ]
  },
  {
   "cell_type": "markdown",
   "metadata": {},
   "source": [
    "## Password Picker\n",
    "#### Reading nouns and verbs from a dataset '.txt' format"
   ]
  },
  {
   "cell_type": "code",
   "execution_count": 1,
   "metadata": {},
   "outputs": [],
   "source": [
    "import random\n",
    "import string\n",
    "password=''\n",
    "def readNouns(nounsdata):\n",
    "    f=open('C:\\\\Users\\\\vishn\\\\Desktop\\\\AIML_CourseWork\\\\assignments\\\\nounlist.txt','r')\n",
    "    for line in f:\n",
    "        line=line.strip('\\n')\n",
    "        nounsdata.append(line)\n",
    "    f.close()\n",
    "    \n",
    "def readVerbs(verbs):\n",
    "    f=open('C:\\\\Users\\\\vishn\\\\Desktop\\\\AIML_CourseWork\\\\assignments\\\\verbs.txt','r')\n",
    "    for line in f:\n",
    "        line=line.strip('\\n')\n",
    "        verbs.append(line)\n",
    "    f.close()  \n"
   ]
  },
  {
   "cell_type": "code",
   "execution_count": 2,
   "metadata": {},
   "outputs": [],
   "source": [
    "### create list of data\n",
    "VERBS = []\n",
    "NOUNS = []\n",
    "DIGITS = string.digits\n",
    "SPL = string.punctuation\n",
    "readNouns(NOUNS)\n",
    "readVerbs(VERBS)\n",
    "\n",
    "### generate password\n",
    "def Generate(password):\n",
    "    \n",
    "   \n",
    "    rand_verb = random.choice(VERBS)\n",
    "    rand_noun = random.choice(NOUNS)\n",
    "    rand_dig = random.choice(DIGITS)\n",
    "    rand_spl = random.choice(SPL)\n",
    "    \n",
    "    #collecting noun+verb+number+special character\n",
    "    password+=rand_verb.capitalize() + rand_noun.capitalize() +rand_dig +rand_spl\n",
    "    return password"
   ]
  },
  {
   "cell_type": "code",
   "execution_count": 11,
   "metadata": {},
   "outputs": [],
   "source": [
    "# satisfaction check\n",
    "\n",
    "def satisfy(password):\n",
    "    \n",
    "    p = str(input(\"satisfied with the password[Y/N]?\"))\n",
    "    if p == \"Y\":\n",
    "        print(\"This is your final password: \",\"\\033[1m\" + password + \"\\033[0m\") #ANSI Method to print bold string\n",
    "        return True\n",
    "    elif p == \"N\":\n",
    "        password=''\n",
    "        return False\n"
   ]
  },
  {
   "cell_type": "code",
   "execution_count": 15,
   "metadata": {},
   "outputs": [
    {
     "name": "stdout",
     "output_type": "stream",
     "text": [
      "CondenseFarm3&\n",
      "satisfied with the password[Y/N]?N\n",
      "DisplayDiary0)\n",
      "satisfied with the password[Y/N]?N\n",
      "ObtainBrother3-\n",
      "satisfied with the password[Y/N]?N\n",
      "ConvinceVibraphone5[\n",
      "satisfied with the password[Y/N]?N\n",
      "NotifyOpportunity0>\n",
      "satisfied with the password[Y/N]?Y\n",
      "This is your final password:  \u001b[1mNotifyOpportunity0>\u001b[0m\n"
     ]
    }
   ],
   "source": [
    "while(True):\n",
    "    final=Generate(password)\n",
    "    print(final)\n",
    "    if satisfy(final):\n",
    "        break"
   ]
  },
  {
   "cell_type": "code",
   "execution_count": null,
   "metadata": {},
   "outputs": [],
   "source": []
  }
 ],
 "metadata": {
  "kernelspec": {
   "display_name": "Python 3",
   "language": "python",
   "name": "python3"
  },
  "language_info": {
   "codemirror_mode": {
    "name": "ipython",
    "version": 3
   },
   "file_extension": ".py",
   "mimetype": "text/x-python",
   "name": "python",
   "nbconvert_exporter": "python",
   "pygments_lexer": "ipython3",
   "version": "3.7.4"
  }
 },
 "nbformat": 4,
 "nbformat_minor": 2
}
