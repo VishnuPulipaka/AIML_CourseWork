{
 "cells": [
  {
   "cell_type": "markdown",
   "metadata": {},
   "source": [
    "1. Generate the following pattern\n",
    "  \t*\n",
    "   \t*  *\n",
    "\t*  *  *\n",
    " \t*  *  *  *\n",
    " \t*  *  *  *  *"
   ]
  },
  {
   "cell_type": "code",
   "execution_count": 2,
   "metadata": {},
   "outputs": [
    {
     "name": "stdout",
     "output_type": "stream",
     "text": [
      "* \n",
      "* * \n",
      "* * * \n",
      "* * * * \n",
      "* * * * * \n"
     ]
    }
   ],
   "source": [
    "for i in range(1,6):\n",
    "    for j in range(i):\n",
    "        print(\"*\",end=\" \")\n",
    "    print()"
   ]
  },
  {
   "cell_type": "markdown",
   "metadata": {},
   "source": [
    "\n",
    "2. Display multiplication table of K. Take k value from user\n",
    " \tEx:      7 x 1 =7\n",
    "    \t\t7 x 2 = 14   ....."
   ]
  },
  {
   "cell_type": "code",
   "execution_count": 1,
   "metadata": {},
   "outputs": [
    {
     "name": "stdout",
     "output_type": "stream",
     "text": [
      "7\n",
      "7 X 1 = 7\n",
      "7 X 2 = 14\n",
      "7 X 3 = 21\n",
      "7 X 4 = 28\n",
      "7 X 5 = 35\n",
      "7 X 6 = 42\n",
      "7 X 7 = 49\n",
      "7 X 8 = 56\n",
      "7 X 9 = 63\n",
      "7 X 10 = 70\n"
     ]
    }
   ],
   "source": [
    "k=int(input())\n",
    "\n",
    "for i in range(1,11):\n",
    "    print(\"{} X {} = {}\".format(k,i,7*i))"
   ]
  },
  {
   "cell_type": "code",
   "execution_count": null,
   "metadata": {},
   "outputs": [],
   "source": [
    "3. Roots of quadratic equation\n",
    "  \tTake the coefficients a,b,c from the user\n",
    "    "
   ]
  },
  {
   "cell_type": "code",
   "execution_count": 4,
   "metadata": {},
   "outputs": [
    {
     "name": "stdout",
     "output_type": "stream",
     "text": [
      "enter a:1\n",
      "enter b:-5\n",
      "enter c:6\n",
      "r1=3.0,r2=2.0\n",
      "real and unequal roots\n"
     ]
    }
   ],
   "source": [
    "import math as m \n",
    "a=int(input(\"enter a:\"))\n",
    "b=int(input(\"enter b:\"))\n",
    "c=int(input(\"enter c:\"))\n",
    "\n",
    "disc=b**2-4*a*c\n",
    "\n",
    "if disc>0:\n",
    "    \n",
    "    r1=(-b+m.sqrt(disc))/(2*a)\n",
    "    r2=(-b-m.sqrt(disc))/(2*a)\n",
    "    print(\"r1={},r2={}\".format(r1,r2))\n",
    "    print(\"real and unequal roots\")\n",
    "elif disc==0:\n",
    "    r=(-b)/(2*a)\n",
    "    print(\"r1=r2={}\".format(r))\n",
    "    print(\"real and equal roots\")\n",
    "else:\n",
    "    n=((m.sqrt(-disc))/(2*a))\n",
    "    r1=complex((-b/(2*a)),n)\n",
    "    r2=complex((-b/(2*a)),-n)\n",
    "    print(\"r1={},r2={}\".format(r1,r2))\n",
    "    print(\"real and imaginary roots\")"
   ]
  },
  {
   "cell_type": "markdown",
   "metadata": {},
   "source": [
    "4. Convert a decimal number to Binary"
   ]
  },
  {
   "cell_type": "code",
   "execution_count": 2,
   "metadata": {},
   "outputs": [
    {
     "name": "stdout",
     "output_type": "stream",
     "text": [
      "enter decimal :7\n",
      "binary of 7:111\n"
     ]
    }
   ],
   "source": [
    "n=int(input(\"enter decimal :\"))\n",
    "num=n\n",
    "bi=[]\n",
    "while n>0:\n",
    "    rem=n%2\n",
    "    bi.append(rem)\n",
    "    n=n//2\n",
    "bn=0\n",
    "for i in reversed(bi):\n",
    "    bn=bn*10+i\n",
    "print(\"binary of {}:{}\".format(num,bn))"
   ]
  },
  {
   "cell_type": "markdown",
   "metadata": {},
   "source": [
    "5. Generate first N number of Fibonacci numbers. Take N value from the user"
   ]
  },
  {
   "cell_type": "code",
   "execution_count": 7,
   "metadata": {},
   "outputs": [
    {
     "name": "stdout",
     "output_type": "stream",
     "text": [
      "5\n",
      "0 1 1 2 3 "
     ]
    }
   ],
   "source": [
    "n=int(input())\n",
    "cnt=2\n",
    "a=0\n",
    "b=1\n",
    "print(a,b,end=\" \")\n",
    "while cnt<n:\n",
    "    c=a+b\n",
    "    a=b\n",
    "    b=c\n",
    "    print(c,end=\" \")\n",
    "    cnt+=1"
   ]
  }
 ],
 "metadata": {
  "kernelspec": {
   "display_name": "Python 3",
   "language": "python",
   "name": "python3"
  },
  "language_info": {
   "codemirror_mode": {
    "name": "ipython",
    "version": 3
   },
   "file_extension": ".py",
   "mimetype": "text/x-python",
   "name": "python",
   "nbconvert_exporter": "python",
   "pygments_lexer": "ipython3",
   "version": "3.7.4"
  }
 },
 "nbformat": 4,
 "nbformat_minor": 2
}
