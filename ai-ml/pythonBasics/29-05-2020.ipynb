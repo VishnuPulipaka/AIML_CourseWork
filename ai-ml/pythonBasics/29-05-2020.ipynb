{
 "cells": [
  {
   "cell_type": "code",
   "execution_count": 1,
   "metadata": {},
   "outputs": [
    {
     "name": "stdout",
     "output_type": "stream",
     "text": [
      "1\n",
      "2\n",
      "3\n",
      "4\n",
      "6\n",
      "7\n",
      "8\n",
      "9\n"
     ]
    }
   ],
   "source": [
    "#Loop control statements : break,continue\n",
    "for i in range(1,11):\n",
    "    if i%5==0:\n",
    "        continue\n",
    "    else:\n",
    "        print(i)"
   ]
  },
  {
   "cell_type": "markdown",
   "metadata": {},
   "source": [
    "# Question:\n",
    "write a program to validate username and password given by the user.If the user gives wrong credentials it should ask for username and password again again until the user gives correct details.\n"
   ]
  },
  {
   "cell_type": "code",
   "execution_count": 2,
   "metadata": {},
   "outputs": [
    {
     "name": "stdout",
     "output_type": "stream",
     "text": [
      "Enter username:python \n",
      "Enter password:ab\n",
      "Enter username:python\n",
      "Enter password:abc123 \n",
      "Enter username:python\n",
      "Enter password:abc123\n",
      "login successful\n"
     ]
    }
   ],
   "source": [
    "user=input(\"Enter username:\")\n",
    "pas=input(\"Enter password:\")\n",
    "\n",
    "dict={\"username\":'python',\"pass\":'abc123'}\n",
    "while(True):\n",
    "    if user!=dict['username'] or pas!=dict['pass']:\n",
    "        user=input(\"Enter username:\")\n",
    "        pas=input(\"Enter password:\")\n",
    "    else:\n",
    "        print(\"login successful\")\n",
    "        break\n",
    "\n"
   ]
  },
  {
   "cell_type": "code",
   "execution_count": 3,
   "metadata": {},
   "outputs": [],
   "source": [
    "\n",
    "#pass keyword is used for empty block\n",
    "if 12<34:\n",
    "    pass\n",
    "else:\n",
    "    print(\"else\")"
   ]
  },
  {
   "cell_type": "markdown",
   "metadata": {},
   "source": [
    "## Functions:\n",
    "block of statements\n",
    "\n",
    "1. predefined(which are already defined)\n",
    "2. user-defined(custom function)\n",
    "\n",
    "def function(param list):\n",
    "    - statements\n",
    "    - return\n",
    "    "
   ]
  },
  {
   "cell_type": "code",
   "execution_count": 4,
   "metadata": {},
   "outputs": [
    {
     "name": "stdout",
     "output_type": "stream",
     "text": [
      "Hello maximillan rockatansky\n"
     ]
    }
   ],
   "source": [
    "def name(username):# definition\n",
    "    print(\"Hello\",username)\n",
    "\n",
    "name(\"maximillan rockatansky\")#call"
   ]
  },
  {
   "cell_type": "code",
   "execution_count": 7,
   "metadata": {},
   "outputs": [
    {
     "name": "stdout",
     "output_type": "stream",
     "text": [
      "1.2\n"
     ]
    }
   ],
   "source": [
    "#multiple values\n",
    "def calc(a,b):\n",
    "    return a+b,a/b,a*b,a**b\n",
    "\n",
    "a,s,m,d=calc(6,5) #tuple unpacking\n",
    "print(s)"
   ]
  },
  {
   "cell_type": "markdown",
   "metadata": {},
   "source": [
    "## Different types of arguements:\n",
    "1. Required positional argument\n",
    "2. default arrguement\n",
    "3. keyword arguments:\n",
    "4. variable length arguements\n"
   ]
  },
  {
   "cell_type": "code",
   "execution_count": 8,
   "metadata": {},
   "outputs": [
    {
     "data": {
      "text/plain": [
       "30"
      ]
     },
     "execution_count": 8,
     "metadata": {},
     "output_type": "execute_result"
    }
   ],
   "source": [
    "def add(a,b):\n",
    "    return a+b\n",
    "\n",
    "#add(10) #error missing positional arguement\n",
    "add(10,20)"
   ]
  },
  {
   "cell_type": "code",
   "execution_count": 9,
   "metadata": {},
   "outputs": [
    {
     "name": "stdout",
     "output_type": "stream",
     "text": [
      "200\n",
      "400\n"
     ]
    }
   ],
   "source": [
    "# default arguement\n",
    "#default arguement is always at last position\n",
    "def add(a,b=100):\n",
    "    return a+b\n",
    "\n",
    "print(add(100))\n",
    "print(add(200,200))"
   ]
  },
  {
   "cell_type": "code",
   "execution_count": 10,
   "metadata": {},
   "outputs": [
    {
     "name": "stdout",
     "output_type": "stream",
     "text": [
      "a=3,b=2\n"
     ]
    },
    {
     "data": {
      "text/plain": [
       "5"
      ]
     },
     "execution_count": 10,
     "metadata": {},
     "output_type": "execute_result"
    }
   ],
   "source": [
    "#keyword arguments:\n",
    "def add(a,b):\n",
    "    print('a={},b={}'.format(a,b))\n",
    "    return a+b\n",
    "\n",
    "add(b=2,a=3)"
   ]
  },
  {
   "cell_type": "code",
   "execution_count": 14,
   "metadata": {},
   "outputs": [
    {
     "data": {
      "text/plain": [
       "1659"
      ]
     },
     "execution_count": 14,
     "metadata": {},
     "output_type": "execute_result"
    }
   ],
   "source": [
    "#variable length arguements:\n",
    "def add(*a):\n",
    "    return sum(a)\n",
    "\n",
    "add(10,34,56,34,456,345,657,67)"
   ]
  },
  {
   "cell_type": "code",
   "execution_count": 15,
   "metadata": {},
   "outputs": [
    {
     "name": "stdout",
     "output_type": "stream",
     "text": [
      "100\n",
      "1000\n"
     ]
    }
   ],
   "source": [
    "#Nested functions:\n",
    "def square(a):\n",
    "    return a*a\n",
    "\n",
    "def cube(x):\n",
    "    return square(x)*x\n",
    "    \n",
    "print(square(10))\n",
    "print(cube(10))"
   ]
  },
  {
   "cell_type": "markdown",
   "metadata": {},
   "source": [
    "# data structure in python:\n",
    "\n",
    "1. List:\n",
    "    - [] elements separated by ,\n",
    "    - indexed\n",
    "    - ordered\n",
    "    - Duplicate values\n",
    "    - mutable\n",
    "    - any type of values"
   ]
  },
  {
   "cell_type": "code",
   "execution_count": 18,
   "metadata": {},
   "outputs": [
    {
     "name": "stdout",
     "output_type": "stream",
     "text": [
      "[1, 2, 3, 10, 20, 30]\n",
      "[1, 2, 3, 1, 2, 3, 1, 2, 3]\n",
      "2\n",
      "[2, 3]\n",
      "True\n",
      "False\n"
     ]
    }
   ],
   "source": [
    "#operators supported by list : +,*,[],[:],in,not in\n",
    "\n",
    "list1=[1,2,3]\n",
    "list2=[10,20,30]\n",
    "print(list1+list2)\n",
    "print(list1*3)\n",
    "print(list1[1])\n",
    "print(list1[1:3])\n",
    "print(2 in list1)\n",
    "print(200 in list1)"
   ]
  },
  {
   "cell_type": "code",
   "execution_count": 23,
   "metadata": {},
   "outputs": [
    {
     "name": "stdout",
     "output_type": "stream",
     "text": [
      "4\n",
      "1\n"
     ]
    },
    {
     "ename": "TypeError",
     "evalue": "'>' not supported between instances of 'str' and 'int'",
     "output_type": "error",
     "traceback": [
      "\u001b[1;31m---------------------------------------------------------------------------\u001b[0m",
      "\u001b[1;31mTypeError\u001b[0m                                 Traceback (most recent call last)",
      "\u001b[1;32m<ipython-input-23-2f58ad214d32>\u001b[0m in \u001b[0;36m<module>\u001b[1;34m\u001b[0m\n\u001b[0;32m      3\u001b[0m \u001b[0mprint\u001b[0m\u001b[1;33m(\u001b[0m\u001b[0mlen\u001b[0m\u001b[1;33m(\u001b[0m\u001b[0mlist1\u001b[0m\u001b[1;33m)\u001b[0m\u001b[1;33m)\u001b[0m\u001b[1;33m\u001b[0m\u001b[1;33m\u001b[0m\u001b[0m\n\u001b[0;32m      4\u001b[0m \u001b[0mprint\u001b[0m\u001b[1;33m(\u001b[0m\u001b[0mmin\u001b[0m\u001b[1;33m(\u001b[0m\u001b[0mlist1\u001b[0m\u001b[1;33m[\u001b[0m\u001b[1;33m:\u001b[0m\u001b[1;33m-\u001b[0m\u001b[1;36m2\u001b[0m\u001b[1;33m]\u001b[0m\u001b[1;33m)\u001b[0m\u001b[1;33m)\u001b[0m\u001b[1;33m\u001b[0m\u001b[1;33m\u001b[0m\u001b[0m\n\u001b[1;32m----> 5\u001b[1;33m \u001b[0mprint\u001b[0m\u001b[1;33m(\u001b[0m\u001b[0mmax\u001b[0m\u001b[1;33m(\u001b[0m\u001b[0mlist1\u001b[0m\u001b[1;33m)\u001b[0m\u001b[1;33m)\u001b[0m\u001b[1;33m\u001b[0m\u001b[1;33m\u001b[0m\u001b[0m\n\u001b[0m",
      "\u001b[1;31mTypeError\u001b[0m: '>' not supported between instances of 'str' and 'int'"
     ]
    }
   ],
   "source": [
    "#Built in functions :len(),min(),max(),list()\n",
    "list1=[1,2,3,\"python\"]\n",
    "print(len(list1))\n",
    "print(min(list1[:-2]))\n",
    "print(max(list1))"
   ]
  }
 ],
 "metadata": {
  "kernelspec": {
   "display_name": "Python 3",
   "language": "python",
   "name": "python3"
  },
  "language_info": {
   "codemirror_mode": {
    "name": "ipython",
    "version": 3
   },
   "file_extension": ".py",
   "mimetype": "text/x-python",
   "name": "python",
   "nbconvert_exporter": "python",
   "pygments_lexer": "ipython3",
   "version": "3.7.4"
  }
 },
 "nbformat": 4,
 "nbformat_minor": 2
}
