{
 "cells": [
  {
   "cell_type": "markdown",
   "metadata": {},
   "source": [
    "# CSE-221710302064- Vishnu Pulipaka"
   ]
  },
  {
   "cell_type": "markdown",
   "metadata": {},
   "source": [
    "# Question 7:\n",
    " \n",
    "    - Input string : \"xyz:750,abc:265,qwerty:195\"\n",
    "      Output string : abc\n",
    "\n",
    "For digits:\n",
    "1. find the reverse of the number and add it to the original number\n",
    "2. if that sum is not palindrome,again add its reverse to that sum\n",
    "3. Find the palindrome numbers for each number in the string by repeating the above step\n",
    "4. Find the maximum palindrome number among all and its original number\n",
    "5. And return the alphabetic code of that palindrome number as output\n"
   ]
  },
  {
   "cell_type": "code",
   "execution_count": 11,
   "metadata": {},
   "outputs": [
    {
     "name": "stdout",
     "output_type": "stream",
     "text": [
      "xyz:750,abc:265,qwerty:195\n",
      "abc\n",
      "{6666: 'xyz', 45254: 'abc', 9339: 'qwerty'}\n"
     ]
    }
   ],
   "source": [
    "inp=input().split(',')\n",
    "\n",
    "def reverse(n):\n",
    "    return int(str(n)[::-1])\n",
    "\n",
    "def makePal(n):\n",
    "    while(n!=reverse(n)):\n",
    "        n=n+reverse(n)\n",
    "    return n\n",
    "\n",
    "d={}\n",
    "for t in inp:\n",
    "    l=t.split(\":\")\n",
    "    d[makePal(int(l[1]))]=l[0]\n",
    "    \n",
    "print(d[max(list(d.keys()))])\n",
    "print(d)"
   ]
  },
  {
   "cell_type": "markdown",
   "metadata": {},
   "source": [
    "##  Question 8:\n",
    "    The groups_per_user function receives a dictionary.which contains group names with the list of users.Users can belong to multiple groups.Return a dictionary with the users as keys and a list of their groups as values.\n",
    "\n",
    "    Input : {\"local\":[\"admin\",\"userA\"],\"public\":[\"admin\",\"userB\"],\"administrator\":[\"admin\"]}\n",
    "    Output :\n",
    "     {'admin': ['local', 'public', 'administrator'],\n",
    "     'userA': ['local'],\n",
    "     'userB': ['public']}\n"
   ]
  },
  {
   "cell_type": "code",
   "execution_count": 23,
   "metadata": {},
   "outputs": [
    {
     "name": "stdout",
     "output_type": "stream",
     "text": [
      "{'userB': ['public'], 'admin': ['local', 'public', 'administrator'], 'userA': ['local'], 'userC': ['local', 'administrator']}\n"
     ]
    }
   ],
   "source": [
    "def group_per_user(d):\n",
    "    l1=list(d.keys())\n",
    "    l2=list(d.values())\n",
    "    users=[]\n",
    "    out={}\n",
    "    for i in l2:\n",
    "        users.extend(i)\n",
    "    users=list(set(users))\n",
    "    for i  in range(len(users)):\n",
    "        rec=[]\n",
    "        for j in range(len(l2)):\n",
    "            if users[i] in l2[j]:\n",
    "                rec.append(l1[j])\n",
    "        out[users[i]]=rec\n",
    "            \n",
    "    print(out,sep='\\n')\n",
    "    \n",
    "group_per_user({\"local\":[\"admin\",\"userA\",\"userC\"],\"public\":[\"admin\",\"userB\"],\"administrator\":[\"admin\",\"userC\"]})"
   ]
  },
  {
   "cell_type": "markdown",
   "metadata": {},
   "source": [
    "# question 9:\n",
    "   -\n",
    "Input : london 40000 12,chicago 60000 20,munich 50000 15,paris 70000 5\n",
    "Output : paris munich\n",
    "\n",
    "City                population      no.of hospitals\n",
    "\n",
    "London\t40000\t\t12\n",
    "\n",
    "Chicago \t60000 \t\t20\n",
    "\n",
    "Munich \t50000 \t\t15\n",
    "\n",
    "Paris \t\t70000 \t\t5"
   ]
  },
  {
   "cell_type": "code",
   "execution_count": 7,
   "metadata": {},
   "outputs": [
    {
     "name": "stdout",
     "output_type": "stream",
     "text": [
      "london 40000 12,chicago 60000 20,munich 50000 15,paris 70000 5\n",
      "paris munich "
     ]
    }
   ],
   "source": [
    "st=input().split(',')\n",
    "l1=[]\n",
    "l2=[]\n",
    "for i in st:\n",
    "    \n",
    "    i=i.split(\" \")\n",
    "    l1.append(tuple([i[0],int(i[1])]))\n",
    "    l2.append(tuple([i[0],int(i[2])]))\n",
    "l1.sort(key=lambda x:x[1],reverse=True)\n",
    "l2.sort(key=lambda x:x[1])\n",
    "\n",
    "for i in range(len(l1)):\n",
    "    if l1[i][0]==l2[i][0]:\n",
    "        print(l1[i][0],end=\" \")"
   ]
  },
  {
   "cell_type": "markdown",
   "metadata": {},
   "source": [
    "# question 11:"
   ]
  },
  {
   "cell_type": "code",
   "execution_count": 7,
   "metadata": {},
   "outputs": [
    {
     "name": "stdout",
     "output_type": "stream",
     "text": [
      "[4, 5]\n"
     ]
    }
   ],
   "source": [
    "user_id = [1,1,2,3,3,4,4,4,5,5]\n",
    "ancestry=[\"England\",\"Ireland\",\"France\",\"Germany\",\"Poland\",\"England\",\"France\",\"Germany\",\"France\",\"Germany\"]\n",
    "\n",
    "\n",
    "cnt=list(set(ancestry))\n",
    "d={}\n",
    "for i in range(len(ancestry)):\n",
    "    if ancestry[i] not in list(d.keys()):\n",
    "        d[ancestry[i]]=[user_id[i],]\n",
    "    else:\n",
    "        d[ancestry[i]].append(user_id[i])\n",
    "\n",
    "required = ['France', 'Germany']\n",
    "ans=set(d[required[0]])\n",
    "for j in range(1,len(required)):\n",
    "    ans=ans.intersection(d[required[j]])\n",
    "\n",
    "print(list(ans))\n"
   ]
  },
  {
   "cell_type": "code",
   "execution_count": 8,
   "metadata": {},
   "outputs": [],
   "source": []
  }
 ],
 "metadata": {
  "kernelspec": {
   "display_name": "Python 3",
   "language": "python",
   "name": "python3"
  },
  "language_info": {
   "codemirror_mode": {
    "name": "ipython",
    "version": 3
   },
   "file_extension": ".py",
   "mimetype": "text/x-python",
   "name": "python",
   "nbconvert_exporter": "python",
   "pygments_lexer": "ipython3",
   "version": "3.7.4"
  }
 },
 "nbformat": 4,
 "nbformat_minor": 2
}
