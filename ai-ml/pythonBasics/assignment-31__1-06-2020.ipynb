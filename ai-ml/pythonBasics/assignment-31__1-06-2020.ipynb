{
 "cells": [
  {
   "cell_type": "markdown",
   "metadata": {},
   "source": [
    "# CSE - 221710302064 - Vishnu Pulipaka"
   ]
  },
  {
   "cell_type": "code",
   "execution_count": 3,
   "metadata": {},
   "outputs": [],
   "source": [
    "import pandas as pd \n",
    "import numpy as np\n",
    "import seaborn as sns\n",
    "import matplotlib.pyplot as plt\n",
    "%matplotlib inline"
   ]
  },
  {
   "cell_type": "code",
   "execution_count": 4,
   "metadata": {},
   "outputs": [
    {
     "data": {
      "text/html": [
       "<div>\n",
       "<style scoped>\n",
       "    .dataframe tbody tr th:only-of-type {\n",
       "        vertical-align: middle;\n",
       "    }\n",
       "\n",
       "    .dataframe tbody tr th {\n",
       "        vertical-align: top;\n",
       "    }\n",
       "\n",
       "    .dataframe thead th {\n",
       "        text-align: right;\n",
       "    }\n",
       "</style>\n",
       "<table border=\"1\" class=\"dataframe\">\n",
       "  <thead>\n",
       "    <tr style=\"text-align: right;\">\n",
       "      <th></th>\n",
       "      <th>CASENUM</th>\n",
       "      <th>ATTORNEY</th>\n",
       "      <th>CLMSEX</th>\n",
       "      <th>CLMINSUR</th>\n",
       "      <th>SEATBELT</th>\n",
       "      <th>CLMAGE</th>\n",
       "      <th>LOSS</th>\n",
       "    </tr>\n",
       "  </thead>\n",
       "  <tbody>\n",
       "    <tr>\n",
       "      <td>0</td>\n",
       "      <td>5</td>\n",
       "      <td>0</td>\n",
       "      <td>0.0</td>\n",
       "      <td>1.0</td>\n",
       "      <td>0.0</td>\n",
       "      <td>50.0</td>\n",
       "      <td>34.940</td>\n",
       "    </tr>\n",
       "    <tr>\n",
       "      <td>1</td>\n",
       "      <td>3</td>\n",
       "      <td>1</td>\n",
       "      <td>1.0</td>\n",
       "      <td>0.0</td>\n",
       "      <td>0.0</td>\n",
       "      <td>18.0</td>\n",
       "      <td>0.891</td>\n",
       "    </tr>\n",
       "    <tr>\n",
       "      <td>2</td>\n",
       "      <td>66</td>\n",
       "      <td>1</td>\n",
       "      <td>0.0</td>\n",
       "      <td>1.0</td>\n",
       "      <td>0.0</td>\n",
       "      <td>5.0</td>\n",
       "      <td>0.330</td>\n",
       "    </tr>\n",
       "    <tr>\n",
       "      <td>3</td>\n",
       "      <td>70</td>\n",
       "      <td>0</td>\n",
       "      <td>0.0</td>\n",
       "      <td>1.0</td>\n",
       "      <td>1.0</td>\n",
       "      <td>31.0</td>\n",
       "      <td>0.037</td>\n",
       "    </tr>\n",
       "    <tr>\n",
       "      <td>4</td>\n",
       "      <td>96</td>\n",
       "      <td>1</td>\n",
       "      <td>0.0</td>\n",
       "      <td>1.0</td>\n",
       "      <td>0.0</td>\n",
       "      <td>30.0</td>\n",
       "      <td>0.038</td>\n",
       "    </tr>\n",
       "  </tbody>\n",
       "</table>\n",
       "</div>"
      ],
      "text/plain": [
       "   CASENUM  ATTORNEY  CLMSEX  CLMINSUR  SEATBELT  CLMAGE    LOSS\n",
       "0        5         0     0.0       1.0       0.0    50.0  34.940\n",
       "1        3         1     1.0       0.0       0.0    18.0   0.891\n",
       "2       66         1     0.0       1.0       0.0     5.0   0.330\n",
       "3       70         0     0.0       1.0       1.0    31.0   0.037\n",
       "4       96         1     0.0       1.0       0.0    30.0   0.038"
      ]
     },
     "execution_count": 4,
     "metadata": {},
     "output_type": "execute_result"
    }
   ],
   "source": [
    "df = pd.read_csv('https://raw.githubusercontent.com/Mounika-Kajjam/Datasets/master/claimants.csv')\n",
    "df.head()"
   ]
  },
  {
   "cell_type": "code",
   "execution_count": 5,
   "metadata": {},
   "outputs": [
    {
     "data": {
      "text/plain": [
       "CASENUM     0\n",
       "ATTORNEY    0\n",
       "CLMSEX      0\n",
       "CLMINSUR    0\n",
       "SEATBELT    0\n",
       "CLMAGE      0\n",
       "LOSS        0\n",
       "dtype: int64"
      ]
     },
     "execution_count": 5,
     "metadata": {},
     "output_type": "execute_result"
    }
   ],
   "source": [
    "# Creating user defined function to impute missing values\n",
    "def fill_na(col):\n",
    "    col.fillna(col.value_counts().index[0],inplace = True)\n",
    "    return col\n",
    "\n",
    "df.apply(lambda col: fill_na(col))\n",
    "df.isna().sum()"
   ]
  },
  {
   "cell_type": "markdown",
   "metadata": {},
   "source": [
    "# Question 1\n",
    "Apply the KNN Algorithm on the dataset ."
   ]
  },
  {
   "cell_type": "code",
   "execution_count": 6,
   "metadata": {},
   "outputs": [],
   "source": [
    "#Splitting data into input and output\n",
    "X = df.drop(['CASENUM','ATTORNEY'],axis = 1)\n",
    "y = df.ATTORNEY\n"
   ]
  },
  {
   "cell_type": "code",
   "execution_count": 7,
   "metadata": {},
   "outputs": [],
   "source": [
    "from sklearn.model_selection import train_test_split\n",
    "X_train,X_test,y_train,y_test = train_test_split(X,y,test_size = 0.20,random_state = 1)"
   ]
  },
  {
   "cell_type": "code",
   "execution_count": 8,
   "metadata": {},
   "outputs": [],
   "source": [
    "# Applying Scaling on training and testing data\n",
    "from sklearn.preprocessing import StandardScaler\n",
    "scaler = StandardScaler()\n",
    "# Scaling for train data\n",
    "scaled_X_train = pd.DataFrame(scaler.fit_transform(X_train),columns = X_train.columns)\n",
    "# Scaling for test data\n",
    "scaled_X_test = pd.DataFrame(scaler.transform(X_test),columns = X_test.columns)"
   ]
  },
  {
   "cell_type": "code",
   "execution_count": 9,
   "metadata": {},
   "outputs": [
    {
     "data": {
      "text/plain": [
       "[0.5970149253731343,\n",
       " 0.5783582089552238,\n",
       " 0.6082089552238806,\n",
       " 0.6343283582089553,\n",
       " 0.6492537313432836,\n",
       " 0.6567164179104478,\n",
       " 0.6567164179104478,\n",
       " 0.6492537313432836,\n",
       " 0.664179104477612,\n",
       " 0.6716417910447762,\n",
       " 0.664179104477612,\n",
       " 0.6529850746268657,\n",
       " 0.6567164179104478,\n",
       " 0.6305970149253731,\n",
       " 0.6305970149253731,\n",
       " 0.6492537313432836,\n",
       " 0.6343283582089553,\n",
       " 0.6417910447761194,\n",
       " 0.6492537313432836]"
      ]
     },
     "execution_count": 9,
     "metadata": {},
     "output_type": "execute_result"
    }
   ],
   "source": [
    "from sklearn.neighbors import KNeighborsClassifier\n",
    "## Fitting scaled model on knn and generating list of accuracy scores \n",
    "# Cheking for optimum k-value\n",
    "from sklearn.metrics import accuracy_score,classification_report\n",
    "scores = []\n",
    "for k in range(1,20):\n",
    "    knn_model = KNeighborsClassifier(n_neighbors=k,metric='euclidean') \n",
    "    knn_model.fit(scaled_X_train,y_train)        \n",
    "    pred_test = knn_model.predict(scaled_X_test)\n",
    "    scores.append(accuracy_score(y_test,pred_test))\n",
    "scores"
   ]
  },
  {
   "cell_type": "code",
   "execution_count": 10,
   "metadata": {},
   "outputs": [
    {
     "data": {
      "text/plain": [
       "[<matplotlib.lines.Line2D at 0x1b2916a0988>]"
      ]
     },
     "execution_count": 10,
     "metadata": {},
     "output_type": "execute_result"
    },
    {
     "data": {
      "image/png": "[encoded data removed]",
      "text/plain": [
       "<Figure size 432x288 with 1 Axes>"
      ]
     },
     "metadata": {
      "needs_background": "light"
     },
     "output_type": "display_data"
    }
   ],
   "source": [
    "# Plotting k values and scores\n",
    "plt.plot(range(1,20),scores,'--',marker = 'o',markerfacecolor = 'red')"
   ]
  },
  {
   "cell_type": "markdown",
   "metadata": {},
   "source": [
    "### Observations :\n",
    "From the graph Optimum k value can be 10"
   ]
  },
  {
   "cell_type": "code",
   "execution_count": 11,
   "metadata": {},
   "outputs": [
    {
     "data": {
      "text/plain": [
       "KNeighborsClassifier(algorithm='auto', leaf_size=30, metric='euclidean',\n",
       "                     metric_params=None, n_jobs=None, n_neighbors=11, p=2,\n",
       "                     weights='uniform')"
      ]
     },
     "execution_count": 11,
     "metadata": {},
     "output_type": "execute_result"
    }
   ],
   "source": [
    "# Optimum k value is 10\n",
    "final_model = KNeighborsClassifier(n_neighbors=11,metric = 'euclidean')\n",
    "final_model.fit(scaled_X_train,y_train)"
   ]
  },
  {
   "cell_type": "markdown",
   "metadata": {},
   "source": [
    "# Question 2\n",
    "- Compute all the classification metrics\n",
    "- Classification report for train data"
   ]
  },
  {
   "cell_type": "code",
   "execution_count": 13,
   "metadata": {},
   "outputs": [
    {
     "name": "stdout",
     "output_type": "stream",
     "text": [
      "              precision    recall  f1-score   support\n",
      "\n",
      "           0       0.74      0.73      0.74       557\n",
      "           1       0.71      0.73      0.72       515\n",
      "\n",
      "    accuracy                           0.73      1072\n",
      "   macro avg       0.73      0.73      0.73      1072\n",
      "weighted avg       0.73      0.73      0.73      1072\n",
      "\n"
     ]
    }
   ],
   "source": [
    "final_train_pred = final_model.predict(scaled_X_train)\n",
    "# Classification report for train data\n",
    "print(classification_report(y_train,final_train_pred))"
   ]
  },
  {
   "cell_type": "code",
   "execution_count": 14,
   "metadata": {},
   "outputs": [
    {
     "data": {
      "text/plain": [
       "<matplotlib.axes._subplots.AxesSubplot at 0x1b291991108>"
      ]
     },
     "execution_count": 14,
     "metadata": {},
     "output_type": "execute_result"
    },
    {
     "data": {
      "image/png": "[encoded data removed]",
      "text/plain": [
       "<Figure size 432x288 with 2 Axes>"
      ]
     },
     "metadata": {
      "needs_background": "light"
     },
     "output_type": "display_data"
    }
   ],
   "source": [
    "# Confusion matrix for train data\n",
    "from sklearn.metrics import confusion_matrix\n",
    "sns.heatmap(confusion_matrix(y_train,final_train_pred),annot = True,fmt = 'd')"
   ]
  },
  {
   "cell_type": "markdown",
   "metadata": {},
   "source": [
    "### Observations \n",
    "Accuracy is 73% on training data using KNeighborsClassifier"
   ]
  },
  {
   "cell_type": "code",
   "execution_count": 15,
   "metadata": {},
   "outputs": [
    {
     "name": "stdout",
     "output_type": "stream",
     "text": [
      "              precision    recall  f1-score   support\n",
      "\n",
      "           0       0.65      0.66      0.65       128\n",
      "           1       0.68      0.67      0.68       140\n",
      "\n",
      "    accuracy                           0.66       268\n",
      "   macro avg       0.66      0.66      0.66       268\n",
      "weighted avg       0.66      0.66      0.66       268\n",
      "\n"
     ]
    }
   ],
   "source": [
    "final_test_pred = final_model.predict(scaled_X_test)\n",
    "# Classification report for test data\n",
    "print(classification_report(y_test,final_test_pred))"
   ]
  },
  {
   "cell_type": "code",
   "execution_count": 16,
   "metadata": {},
   "outputs": [
    {
     "data": {
      "text/plain": [
       "<matplotlib.axes._subplots.AxesSubplot at 0x1b291aa4f08>"
      ]
     },
     "execution_count": 16,
     "metadata": {},
     "output_type": "execute_result"
    },
    {
     "data": {
      "image/png": "[encoded data removed]",
      "text/plain": [
       "<Figure size 432x288 with 2 Axes>"
      ]
     },
     "metadata": {
      "needs_background": "light"
     },
     "output_type": "display_data"
    }
   ],
   "source": [
    "# Confusion matrix for test data\n",
    "from sklearn.metrics import confusion_matrix\n",
    "sns.heatmap(confusion_matrix(y_test,final_test_pred),annot = True,fmt = 'd')"
   ]
  },
  {
   "cell_type": "markdown",
   "metadata": {},
   "source": [
    "### Observations :\n",
    "Accuracy is 66% on test data using KNeighborsClassifier"
   ]
  },
  {
   "cell_type": "markdown",
   "metadata": {},
   "source": [
    "# Question 3\n",
    "Plot the ROC Curve for the model and find the AUC"
   ]
  },
  {
   "cell_type": "code",
   "execution_count": 18,
   "metadata": {},
   "outputs": [],
   "source": [
    "# for ROC Curve\n",
    "# Finding Area under curve(AUC)\n",
    "# TPR,FPR,Threshold\n",
    "from sklearn.metrics import roc_auc_score,roc_curve\n",
    "m_prob = final_model.predict_proba(scaled_X_test)[:,1]\n",
    "fpr,tpr,threshold = roc_curve(y_test,m_prob,pos_label = 1)"
   ]
  },
  {
   "cell_type": "code",
   "execution_count": 19,
   "metadata": {},
   "outputs": [
    {
     "data": {
      "text/plain": [
       "[<matplotlib.lines.Line2D at 0x1b291b5dd48>]"
      ]
     },
     "execution_count": 19,
     "metadata": {},
     "output_type": "execute_result"
    },
    {
     "data": {
      "image/png": "[encoded data removed]",
      "text/plain": [
       "<Figure size 432x288 with 1 Axes>"
      ]
     },
     "metadata": {
      "needs_background": "light"
     },
     "output_type": "display_data"
    }
   ],
   "source": [
    "plt.plot(fpr,tpr)"
   ]
  },
  {
   "cell_type": "code",
   "execution_count": 20,
   "metadata": {},
   "outputs": [
    {
     "data": {
      "text/plain": [
       "0.7046875"
      ]
     },
     "execution_count": 20,
     "metadata": {},
     "output_type": "execute_result"
    }
   ],
   "source": [
    "# Area under Curve\n",
    "roc_auc_score(y_test,m_prob)"
   ]
  },
  {
   "cell_type": "markdown",
   "metadata": {},
   "source": [
    "# Question 4\n",
    "- Compare the AUC of KNN Model with Logistic Regression Model and find which Model has higher AUC\n",
    "- Using Logistic regression"
   ]
  },
  {
   "cell_type": "code",
   "execution_count": 21,
   "metadata": {},
   "outputs": [
    {
     "name": "stderr",
     "output_type": "stream",
     "text": [
      "C:\\Users\\vishn\\Anaconda3\\lib\\site-packages\\sklearn\\linear_model\\logistic.py:432: FutureWarning: Default solver will be changed to 'lbfgs' in 0.22. Specify a solver to silence this warning.\n",
      "  FutureWarning)\n"
     ]
    }
   ],
   "source": [
    "from sklearn.linear_model import LogisticRegression\n",
    "reg = LogisticRegression()\n",
    "reg.fit(X_train,y_train)\n",
    "y1_train_pred = reg.predict(X_train) # prediction on training data\n",
    "y_test_pred = reg.predict(X_test) # Prediction on testing data"
   ]
  },
  {
   "cell_type": "code",
   "execution_count": 22,
   "metadata": {},
   "outputs": [
    {
     "name": "stdout",
     "output_type": "stream",
     "text": [
      "              precision    recall  f1-score   support\n",
      "\n",
      "           0       0.76      0.66      0.70       557\n",
      "           1       0.67      0.77      0.72       515\n",
      "\n",
      "    accuracy                           0.71      1072\n",
      "   macro avg       0.72      0.71      0.71      1072\n",
      "weighted avg       0.72      0.71      0.71      1072\n",
      "\n"
     ]
    }
   ],
   "source": [
    "# Classification report for training data\n",
    "print(classification_report(y_train,y1_train_pred))"
   ]
  },
  {
   "cell_type": "code",
   "execution_count": 23,
   "metadata": {},
   "outputs": [
    {
     "name": "stdout",
     "output_type": "stream",
     "text": [
      "              precision    recall  f1-score   support\n",
      "\n",
      "           0       0.68      0.55      0.61       128\n",
      "           1       0.65      0.76      0.70       140\n",
      "\n",
      "    accuracy                           0.66       268\n",
      "   macro avg       0.66      0.66      0.65       268\n",
      "weighted avg       0.66      0.66      0.66       268\n",
      "\n"
     ]
    }
   ],
   "source": [
    "\n",
    "# Classification report for testing data\n",
    "print(classification_report(y_test,y_test_pred))"
   ]
  },
  {
   "cell_type": "code",
   "execution_count": 24,
   "metadata": {},
   "outputs": [],
   "source": [
    "#ROC Curve\n",
    "# TPR,FPR,Threshold\n",
    "from sklearn.metrics import roc_auc_score,roc_curve\n",
    "m_prob1 = reg.predict_proba(X_test)[:,1]\n",
    "fpr,tpr,threshold = roc_curve(y_test,m_prob1,pos_label = 1)"
   ]
  },
  {
   "cell_type": "code",
   "execution_count": 25,
   "metadata": {},
   "outputs": [
    {
     "data": {
      "text/plain": [
       "[<matplotlib.lines.Line2D at 0x1b291970508>]"
      ]
     },
     "execution_count": 25,
     "metadata": {},
     "output_type": "execute_result"
    },
    {
     "data": {
      "image/png": "[encoded data removed]",
      "text/plain": [
       "<Figure size 432x288 with 1 Axes>"
      ]
     },
     "metadata": {
      "needs_background": "light"
     },
     "output_type": "display_data"
    }
   ],
   "source": [
    "plt.plot(fpr,tpr)"
   ]
  },
  {
   "cell_type": "code",
   "execution_count": 26,
   "metadata": {},
   "outputs": [
    {
     "data": {
      "text/plain": [
       "0.7154575892857142"
      ]
     },
     "execution_count": 26,
     "metadata": {},
     "output_type": "execute_result"
    }
   ],
   "source": [
    "roc_auc_score(y_test,m_prob1)"
   ]
  },
  {
   "cell_type": "markdown",
   "metadata": {},
   "source": [
    "### Observations:\n",
    "The AUC for Logistic Regression model is more than KNeighborsClassifier model\n",
    "i.e., for Logisitic Regression it is 71% and for KNeighborsClassifier it is 70%"
   ]
  }
 ],
 "metadata": {
  "kernelspec": {
   "display_name": "Python 3",
   "language": "python",
   "name": "python3"
  },
  "language_info": {
   "codemirror_mode": {
    "name": "ipython",
    "version": 3
   },
   "file_extension": ".py",
   "mimetype": "text/x-python",
   "name": "python",
   "nbconvert_exporter": "python",
   "pygments_lexer": "ipython3",
   "version": "3.7.4"
  }
 },
 "nbformat": 4,
 "nbformat_minor": 2
}
