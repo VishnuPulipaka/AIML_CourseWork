{
 "cells": [
  {
   "cell_type": "markdown",
   "metadata": {},
   "source": [
    "# Question 1:\n",
    "    Write a python program to find and display the product of three positive integer values based on the rule mentioned below:\n",
    "    It should display the product of the three values except when one of the integer value is 7. In that case, 7 should not be included in the product and the values to its left also should not be included.\n",
    "    If there is only one value to be considered, display that value itself. If no values can be included in the product, display -1.\n",
    "    Note: Assume that if 7 is one of the positive integer values, then it will occur only once. Refer the sample I/O given below.\n",
    "\n",
    "Sample Input\n",
    "Expected Output\n",
    "- 1, 5, 3\n",
    "    - 15\n",
    "- 3, 7, 8\n",
    "    - 8\n",
    "- 7, 4, 3\n",
    "    - 12\n",
    "- 1, 5, 7\n",
    "    - -1\n",
    "\n",
    "\n"
   ]
  },
  {
   "cell_type": "code",
   "execution_count": 2,
   "metadata": {},
   "outputs": [
    {
     "name": "stdout",
     "output_type": "stream",
     "text": [
      "4\n",
      "1,5,3\n",
      "15\n",
      "3,7,8\n",
      "8\n",
      "1,5,7\n",
      "-1\n",
      "1,1,1\n",
      "1\n"
     ]
    }
   ],
   "source": [
    "def question1(l):\n",
    "    p=1\n",
    "    for i in l:\n",
    "        p*=i\n",
    "        if i==7:\n",
    "            p=1\n",
    "    if l[-1]==7:\n",
    "        print(-1)\n",
    "    else:\n",
    "        print(p)\n",
    "\n",
    "cases=int(input())\n",
    "for j in range(cases):\n",
    "    l=[int(i) for i in input().split(\",\")]\n",
    "    question1(l)"
   ]
  },
  {
   "cell_type": "markdown",
   "metadata": {},
   "source": [
    "# Question 2:\n",
    "    ARS Gems Store sells different varieties of gems to its customers.\n",
    "\n",
    "    Write a Python program to calculate the bill amount to be paid by a customer based on the list of gems and quantity purchased. Any purchase with a total bill amount above Rs.30000 is entitled for 5% discount. If any gem required by the customer is not available in the store, then consider total bill amount to be -1.\n",
    "\n",
    "    Assume that quantity required by the customer for any gem will always be greater than 0.\n",
    "\n",
    "    Perform case-sensitive comparison wherever applicable.\n",
    "\n",
    "    #List of gems available in the store\n",
    "    gems_list=[\"Emerald\",\"Ivory\",\"Jasper\",\"Ruby\",\"Garnet\"]\n",
    "\n",
    "    #Price of gems available in the store. gems_list and price_list have one-to-one correspondence\n",
    "    price_list=[1760,2119,1599,3920,3999]\n",
    "\n",
    "    #List of gems required by the customer\n",
    "    reqd_gems=[\"Ivory\",\"Emerald\",\"Garnet\"]\n",
    "\n",
    "    #Quantity of gems required by the customer. reqd_gems and reqd_quantity have one-to-one correspondence\n",
    "    reqd_quantity=[3,10,12]\n",
    "\n",
    "    bill_amount=calculate_bill_amount(gems_list, price_list, reqd_gems, reqd_quantity)\n",
    "    print(bill_amount)\n"
   ]
  },
  {
   "cell_type": "code",
   "execution_count": 19,
   "metadata": {},
   "outputs": [
    {
     "name": "stdout",
     "output_type": "stream",
     "text": [
      "ivory,emerald,garnet\n",
      "3,10,12\n",
      "68347.75\n"
     ]
    },
    {
     "data": {
      "text/plain": [
       "{'emerald': 1760, 'ivory': 2119, 'jasper': 1599, 'ruby': 3920, 'garnet': 3999}"
      ]
     },
     "execution_count": 19,
     "metadata": {},
     "output_type": "execute_result"
    }
   ],
   "source": [
    "gems_list=[\"Emerald\",\"Ivory\",\"Jasper\",\"Ruby\",\"Garnet\"]\n",
    "gems_list=map(lambda x:x.lower(),gems_list)\n",
    "price_list=[1760,2119,1599,3920,3999]\n",
    "check=dict(zip(gems_list,price_list))\n",
    "\n",
    "rg=[s for s in input().split(\",\")]\n",
    "rq=[int(j) for j in input().split(\",\")]\n",
    "basket=dict(zip(rg,rq))\n",
    "bill=0\n",
    "for item in basket.keys():\n",
    "    if item in check.keys():\n",
    "        bill+=check[item.lower()]*basket[item.lower()]\n",
    "    else:\n",
    "        bill=-1\n",
    "        break\n",
    "if bill>30000:\n",
    "    bill*=0.95\n",
    "print(bill)"
   ]
  }
 ],
 "metadata": {
  "kernelspec": {
   "display_name": "Python 3",
   "language": "python",
   "name": "python3"
  },
  "language_info": {
   "codemirror_mode": {
    "name": "ipython",
    "version": 3
   },
   "file_extension": ".py",
   "mimetype": "text/x-python",
   "name": "python",
   "nbconvert_exporter": "python",
   "pygments_lexer": "ipython3",
   "version": "3.7.4"
  }
 },
 "nbformat": 4,
 "nbformat_minor": 2
}
