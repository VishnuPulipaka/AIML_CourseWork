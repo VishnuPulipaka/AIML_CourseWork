{
 "cells": [
  {
   "cell_type": "markdown",
   "metadata": {},
   "source": [
    "# CSE - 221710302064- Vishnu Pulipaka"
   ]
  },
  {
   "cell_type": "markdown",
   "metadata": {},
   "source": [
    "# question 1:"
   ]
  },
  {
   "cell_type": "code",
   "execution_count": 12,
   "metadata": {},
   "outputs": [
    {
     "name": "stdout",
     "output_type": "stream",
     "text": [
      "4\n",
      "a\n",
      "aa\n",
      "abcd\n",
      "aaaaa\n",
      "Output:\n",
      "\n",
      "YES\n",
      "YES\n",
      "NO\n",
      "YES\n"
     ]
    }
   ],
   "source": [
    "def l(s):\n",
    "    return s[1:]+s[0]\n",
    "def r(s):\n",
    "    return s[-1]+s[0:len(s)-1]\n",
    "\n",
    "n=int(input())\n",
    "lt=[input() for i in range(n)]\n",
    "print(\"Output:\\n\")\n",
    "for x in lt:\n",
    "    if l(x)==r(x):\n",
    "        print(\"YES\")\n",
    "    else:\n",
    "        print(\"NO\")"
   ]
  },
  {
   "cell_type": "markdown",
   "metadata": {},
   "source": [
    "# question 2:"
   ]
  },
  {
   "cell_type": "code",
   "execution_count": 2,
   "metadata": {},
   "outputs": [
    {
     "name": "stdout",
     "output_type": "stream",
     "text": [
      "20 23 6\n",
      "2\n"
     ]
    }
   ],
   "source": [
    "i,j,k=map(int,input().split())\n",
    "\n",
    "def reverse(n):\n",
    "    return int(str(n)[::-1])\n",
    "\n",
    "def beautiful(i,j,k):\n",
    "    cnt=0\n",
    "    for t in range(i,j+1):\n",
    "        if abs(t-reverse(t))%k==0:\n",
    "            cnt+=1\n",
    "    return cnt\n",
    "\n",
    "print(beautiful(i,j,k))"
   ]
  },
  {
   "cell_type": "markdown",
   "metadata": {},
   "source": [
    "# question 3:"
   ]
  },
  {
   "cell_type": "code",
   "execution_count": 4,
   "metadata": {},
   "outputs": [
    {
     "name": "stdout",
     "output_type": "stream",
     "text": [
      "4\n",
      "2 3 1 3\n"
     ]
    },
    {
     "data": {
      "text/plain": [
       "2"
      ]
     },
     "execution_count": 4,
     "metadata": {},
     "output_type": "execute_result"
    }
   ],
   "source": [
    "n=int(input())\n",
    "k=[int(i) for i in input().split()]\n",
    "\n",
    "def cakeCandles(n,k):\n",
    "    return k.count(max(k))\n",
    "\n",
    "cakeCandles(n,k)"
   ]
  },
  {
   "cell_type": "markdown",
   "metadata": {},
   "source": [
    "# question 4:"
   ]
  },
  {
   "cell_type": "code",
   "execution_count": 14,
   "metadata": {},
   "outputs": [
    {
     "name": "stdout",
     "output_type": "stream",
     "text": [
      "4,1,2,1\n",
      "4211,12\n"
     ]
    }
   ],
   "source": [
    "n=[int(i) for i in input().split(\",\")]\n",
    "\n",
    "def fact(n):\n",
    "    if n<=1:\n",
    "        return 1\n",
    "    else:\n",
    "        return n*fact(n-1)\n",
    "    \n",
    "def findCombPos(n):\n",
    "    s=list(set(n))\n",
    "    s.sort(reverse=True)\n",
    "    den=1\n",
    "    for i in s:\n",
    "        den*=fact(n.count(i))                # position= n!/(r!*s!*t!....) where r s and t are frequency of repeated elements\n",
    "\n",
    "    pos=fact(len(n))/(den)\n",
    "    \n",
    "    n.sort(reverse=True)\n",
    "    ans=0\n",
    "    for i in n:\n",
    "        ans=ans*10+i\n",
    "    print(ans,\",\",int(pos),sep=\"\")\n",
    "\n",
    "findCombPos(n)"
   ]
  },
  {
   "cell_type": "markdown",
   "metadata": {},
   "source": [
    "# question 5:"
   ]
  },
  {
   "cell_type": "code",
   "execution_count": 16,
   "metadata": {},
   "outputs": [
    {
     "name": "stdout",
     "output_type": "stream",
     "text": [
      "124\n"
     ]
    },
    {
     "data": {
      "text/plain": [
       "545"
      ]
     },
     "execution_count": 16,
     "metadata": {},
     "output_type": "execute_result"
    }
   ],
   "source": [
    "n=int(input())\n",
    "\n",
    "rev=lambda n:int(str(n)[::-1])\n",
    "\n",
    "def makePal(n):\n",
    "    while(n!=rev(n)):\n",
    "        n=n+rev(n)\n",
    "    return n\n",
    "makePal(n)"
   ]
  },
  {
   "cell_type": "markdown",
   "metadata": {},
   "source": [
    "# question 6:"
   ]
  },
  {
   "cell_type": "code",
   "execution_count": 10,
   "metadata": {},
   "outputs": [
    {
     "name": "stdout",
     "output_type": "stream",
     "text": [
      "2\n",
      "5 3\n",
      "2 4 2 4 2\n",
      "8 5\n",
      "9 3 5 7 8 11 17 2\n",
      "Output:\n",
      "5\n",
      "3\n"
     ]
    }
   ],
   "source": [
    "def isSecond(k,l):\n",
    "    if len(l)==1:\n",
    "        if k<l[0]:\n",
    "            return True\n",
    "        else:\n",
    "            return False\n",
    "        \n",
    "    m=max(l)\n",
    "    l=[value for value in l if value != m]            # removing all occurences max element from sublist\n",
    "    m2=max(l)                                         # second maximum\n",
    "    if k<m and k>m2:   #   2nd max < k < max then k is second max in subArray\n",
    "        return True\n",
    "    else:\n",
    "        return False\n",
    "    \n",
    "out=[]\n",
    "t=int(input())\n",
    "for cases in range(t):\n",
    "    n,k=map(int,input().split())\n",
    "    a=[int(i) for i in input().split()]\n",
    "    mx=1\n",
    "    wl=1                         # length of sliding window\n",
    "    while(wl<len(a)):\n",
    "        e=0\n",
    "        while(e+wl<len(a)):\n",
    "            if isSecond(k,a[e:e+wl]):\n",
    "                if wl>mx:\n",
    "                    mx=wl\n",
    "\n",
    "            e+=1\n",
    "        wl+=1\n",
    "    out.append(mx+1)\n",
    "\n",
    "print(\"Output:\")\n",
    "for i in out:\n",
    "    print(i,sep=\" \")\n",
    "\n"
   ]
  }
 ],
 "metadata": {
  "kernelspec": {
   "display_name": "Python 3",
   "language": "python",
   "name": "python3"
  }
 },
 "nbformat": 4,
 "nbformat_minor": 2
}
