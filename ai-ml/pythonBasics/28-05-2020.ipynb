{
 "cells": [
  {
   "cell_type": "markdown",
   "metadata": {},
   "source": [
    "### Strings:\n",
    "1.  \" \" or '' (Characters) --> 'a'\n",
    "2. immutable --> we cannot any changes\n",
    "3. collection of characters enclosed by quotation marks --> Iterable object\n"
   ]
  },
  {
   "cell_type": "code",
   "execution_count": 8,
   "metadata": {},
   "outputs": [
    {
     "name": "stdout",
     "output_type": "stream",
     "text": [
      "Enter string here: hello world\n",
      "<class 'str'> <class 'str'>\n"
     ]
    }
   ],
   "source": [
    "s1  = input(\"Enter string here: \")\n",
    "s2 = 'good afternoon'\n",
    "print(type(s1),type(s2))"
   ]
  },
  {
   "cell_type": "code",
   "execution_count": 9,
   "metadata": {},
   "outputs": [
    {
     "name": "stdout",
     "output_type": "stream",
     "text": [
      "hello worldgood afternoon\n",
      "hello worldhello worldhello world\n",
      " \n",
      "n\n",
      "od afternoon\n",
      "go feno\n"
     ]
    }
   ],
   "source": [
    "#operators : +,*(repition),[](slice)\n",
    "print(s1+s2) #concatenation\n",
    "print(s1*3)\n",
    "print(s2[4])#slicing\n",
    "print(s2[-1])#slicing\n",
    "print(s2[2:])#start=2,stop=length of string,step=1\n",
    "print(s2[::2])#alternate characters"
   ]
  },
  {
   "cell_type": "code",
   "execution_count": 18,
   "metadata": {},
   "outputs": [
    {
     "name": "stdout",
     "output_type": "stream",
     "text": [
      "mueseum\n",
      "palindrome!\n"
     ]
    }
   ],
   "source": [
    "# palindrome\n",
    "\n",
    "st=input()\n",
    "if(st==st[::-1]):\n",
    "    print(\"palindrome!\")\n",
    "else:\n",
    "    print(\"no\")"
   ]
  },
  {
   "cell_type": "code",
   "execution_count": 1,
   "metadata": {},
   "outputs": [
    {
     "name": "stdout",
     "output_type": "stream",
     "text": [
      "Number :12121\n",
      "the given number is palindrome!\n"
     ]
    }
   ],
   "source": [
    "n=int(input(\"Number :\"))\n",
    "if str(n) == str(n)[::-1] :\n",
    "    print(\"the given number is palindrome!\")\n",
    "else:\n",
    "    print(\"the given number is not palindrome!\")\n"
   ]
  },
  {
   "cell_type": "code",
   "execution_count": 2,
   "metadata": {},
   "outputs": [
    {
     "name": "stdout",
     "output_type": "stream",
     "text": [
      "True\n",
      "False\n",
      "False\n",
      "True\n"
     ]
    }
   ],
   "source": [
    "#membership operator in strings\n",
    "\n",
    "s4=\"python\"\n",
    "print(\"on\" in s4)\n",
    "print(\"xyz\" in s4)\n",
    "print(\"on\" not in s4)\n",
    "print(\"xyz\" not in s4)"
   ]
  },
  {
   "cell_type": "code",
   "execution_count": null,
   "metadata": {},
   "outputs": [],
   "source": [
    "# Built-in functions:\n",
    "1. max()\n",
    "2. min()\n",
    "3.len()\n",
    "4. str()"
   ]
  },
  {
   "cell_type": "code",
   "execution_count": 3,
   "metadata": {},
   "outputs": [
    {
     "name": "stdout",
     "output_type": "stream",
     "text": [
      "5\n",
      "o\n",
      "e\n",
      "c\n",
      "1\n"
     ]
    }
   ],
   "source": [
    "s=\"hello\"\n",
    "s1=\"abc123\"\n",
    "print(len(s))\n",
    "print(max(s))\n",
    "print(min(s))\n",
    "print(max(s1))\n",
    "print(min(s1))\n"
   ]
  },
  {
   "cell_type": "markdown",
   "metadata": {},
   "source": [
    "### Built-in Methods:\n",
    "1. captilaize()\n",
    "2. isalpha()\n",
    "3. isdigit()\n",
    "4. isalnum()"
   ]
  },
  {
   "cell_type": "code",
   "execution_count": 6,
   "metadata": {},
   "outputs": [
    {
     "name": "stdout",
     "output_type": "stream",
     "text": [
      "5\n",
      "Hello\n",
      "True\n",
      "True\n",
      "True\n",
      "False\n",
      "True\n",
      "False\n"
     ]
    }
   ],
   "source": [
    "s=\"hello\"\n",
    "s1=\"abc123\"\n",
    "s3=\"123\"\n",
    "print(len(s))\n",
    "print(s.capitalize())\n",
    "print(s.isalpha())\n",
    "print(s1.isalnum())\n",
    "print(s3.isdigit())\n",
    "print(s1.isalpha())\n",
    "print(s3.isalnum())\n",
    "print(s.isdigit())"
   ]
  },
  {
   "cell_type": "code",
   "execution_count": 10,
   "metadata": {},
   "outputs": [
    {
     "name": "stdout",
     "output_type": "stream",
     "text": [
      "False\n",
      "True\n",
      "True\n",
      "False\n",
      "python PYTHON python PYTHON\n"
     ]
    }
   ],
   "source": [
    "s1=\"python\"\n",
    "s2=\"PYTHON\"\n",
    "\n",
    "#isupper\n",
    "\n",
    "print(s1.isupper())\n",
    "print(s2.isupper())\n",
    "\n",
    "#islower\n",
    "\n",
    "print(s1.islower())\n",
    "print(s2.islower())\n",
    "\n",
    "# upper and lower\n",
    "s3=s2.lower()\n",
    "s4=s1.upper()\n",
    "print(s1,s2,s3,s4)"
   ]
  },
  {
   "cell_type": "code",
   "execution_count": 13,
   "metadata": {},
   "outputs": [
    {
     "name": "stdout",
     "output_type": "stream",
     "text": [
      "PYthON\n"
     ]
    }
   ],
   "source": [
    "#swapcase\n",
    "t=\"pyTHon\"\n",
    "t1=t.swapcase()\n",
    "print(t1)"
   ]
  },
  {
   "cell_type": "code",
   "execution_count": 16,
   "metadata": {},
   "outputs": [
    {
     "name": "stdout",
     "output_type": "stream",
     "text": [
      "abc abc abc ['abc', 'abc', 'abc']\n"
     ]
    }
   ],
   "source": [
    "#count method:\n",
    "# count return frequency of substring in main string\n",
    "\n",
    "tt=\"abc abc abc\"\n",
    "tt.count('abc')\n",
    "\n",
    "\n",
    "#split:\n",
    "\n",
    "listt=tt.split()\n",
    "print(tt,listt)"
   ]
  },
  {
   "cell_type": "code",
   "execution_count": 18,
   "metadata": {},
   "outputs": [
    {
     "name": "stdout",
     "output_type": "stream",
     "text": [
      "abc\n",
      "azc\n"
     ]
    }
   ],
   "source": [
    "#replace method\n",
    "s='abc'\n",
    "print(s)\n",
    "s=s.replace('b','z')\n",
    "print(s)"
   ]
  },
  {
   "cell_type": "code",
   "execution_count": 23,
   "metadata": {},
   "outputs": [
    {
     "name": "stdout",
     "output_type": "stream",
     "text": [
      "enter n=3\n",
      "enter string: world\n",
      "word\n"
     ]
    }
   ],
   "source": [
    "#remove the nth letter in the string\n",
    "n=int(input(\"enter n=\"))\n",
    "s=input(\"enter string: \")\n",
    "\n",
    "snew=s[:n]+s[n+1:]\n",
    "print(snew)"
   ]
  },
  {
   "cell_type": "markdown",
   "metadata": {},
   "source": [
    "### for loop\n",
    "for var_name in range(start,stop,step)\n"
   ]
  },
  {
   "cell_type": "code",
   "execution_count": 6,
   "metadata": {},
   "outputs": [
    {
     "name": "stdout",
     "output_type": "stream",
     "text": [
      "0 1 2 3 4 5 6 7 8 9 10 "
     ]
    }
   ],
   "source": [
    "for i in range(11):\n",
    "    print(i,end=\" \")\n",
    "    \n",
    "# printing number upto 10"
   ]
  },
  {
   "cell_type": "code",
   "execution_count": 9,
   "metadata": {},
   "outputs": [
    {
     "name": "stdout",
     "output_type": "stream",
     "text": [
      "p\n",
      "y\n",
      "t\n",
      "h\n",
      "o\n",
      "n\n",
      "p\n",
      "y\n",
      "t\n",
      "h\n",
      "o\n",
      "n\n",
      "p\n",
      "y\n",
      "t\n",
      "h\n",
      "o\n",
      "n\n"
     ]
    }
   ],
   "source": [
    "### for loop with iterabl object:\n",
    "\n",
    "s=\"python\"\n",
    "\n",
    "for i in s:\n",
    "    print(i)\n",
    "    \n",
    "### using while loop:\n",
    "\n",
    "i=0\n",
    "while i<len(s):\n",
    "    print(s[i])\n",
    "    i+=1\n",
    "    \n",
    "## without iterable object:\n",
    "\n",
    "for i in range(len(s)):\n",
    "    print(s[i])"
   ]
  },
  {
   "cell_type": "markdown",
   "metadata": {},
   "source": [
    "1. Accept a string from the user and count no of vowels,consonants,special characters\n",
    "2. count no of pairs of a in given string:\n",
    "3. \"((((()()()))))()\""
   ]
  },
  {
   "cell_type": "code",
   "execution_count": 11,
   "metadata": {},
   "outputs": [
    {
     "name": "stdout",
     "output_type": "stream",
     "text": [
      "\n",
      "Here is a list of the Python keywords.  Enter any keyword to get more help.\n",
      "\n",
      "False               class               from                or\n",
      "None                continue            global              pass\n",
      "True                def                 if                  raise\n",
      "and                 del                 import              return\n",
      "as                  elif                in                  try\n",
      "assert              else                is                  while\n",
      "async               except              lambda              with\n",
      "await               finally             nonlocal            yield\n",
      "break               for                 not                 \n",
      "\n"
     ]
    }
   ],
   "source": [
    "help(\"keywords\")"
   ]
  }
 ],
 "metadata": {
  "kernelspec": {
   "display_name": "Python 3",
   "language": "python",
   "name": "python3"
  },
  "language_info": {
   "codemirror_mode": {
    "name": "ipython",
    "version": 3
   },
   "file_extension": ".py",
   "mimetype": "text/x-python",
   "name": "python",
   "nbconvert_exporter": "python",
   "pygments_lexer": "ipython3",
   "version": "3.7.4"
  }
 },
 "nbformat": 4,
 "nbformat_minor": 2
}
