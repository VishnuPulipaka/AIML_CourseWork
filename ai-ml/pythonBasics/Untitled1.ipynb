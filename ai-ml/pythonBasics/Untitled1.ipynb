{
 "cells": [
  {
   "cell_type": "code",
   "execution_count": 8,
   "metadata": {},
   "outputs": [
    {
     "name": "stdout",
     "output_type": "stream",
     "text": [
      "[2, 8, 4]\n",
      "[2, 8, 4]\n",
      "[2, 8, 4]\n",
      "[2, 8, 4]\n",
      "[2, 8, 4]\n",
      "******************************\n",
      "[1, 0, 4]\n",
      "[0, 1, 5]\n",
      "[7, 3, 4]\n",
      "[3, 6, 1]\n",
      "[3, 4, 1]\n"
     ]
    }
   ],
   "source": [
    "from sklearn.model_selection import train_test_split\n",
    "X_data = range(10)\n",
    "y_data = range(10)\n",
    "for i in range(5):\n",
    "    X_train, X_test, y_train, y_test = train_test_split(X_data, y_data, test_size = 0.3,random_state = 0) # zero or any other integer\n",
    "    print(y_test)\n",
    "print(\"*\"*30)\n",
    "for i in range(5):\n",
    "    X_train, X_test, y_train, y_test = train_test_split(X_data, y_data, test_size = 0.3,random_state = None)\n",
    "    print(y_test)"
   ]
  }
 ],
 "metadata": {
  "kernelspec": {
   "display_name": "Python 3",
   "language": "python",
   "name": "python3"
  },
  "language_info": {
   "codemirror_mode": {
    "name": "ipython",
    "version": 3
   },
   "file_extension": ".py",
   "mimetype": "text/x-python",
   "name": "python",
   "nbconvert_exporter": "python",
   "pygments_lexer": "ipython3",
   "version": "3.7.4"
  }
 },
 "nbformat": 4,
 "nbformat_minor": 2
}
